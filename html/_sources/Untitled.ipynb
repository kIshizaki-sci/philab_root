{
 "cells": [
  {
   "cell_type": "code",
   "execution_count": 1,
   "id": "f737d93c-a667-4c60-b4de-4bd4c6f6f8f0",
   "metadata": {},
   "outputs": [
    {
     "name": "stdout",
     "output_type": "stream",
     "text": [
      "/home/philab_member/working/book\n"
     ]
    }
   ],
   "source": [
    "pwd"
   ]
  },
  {
   "cell_type": "code",
   "execution_count": 2,
   "id": "ed573c8d-63ed-458a-99b9-dd76243fab55",
   "metadata": {},
   "outputs": [],
   "source": [
    "rm -rd contents/*"
   ]
  },
  {
   "cell_type": "code",
   "execution_count": 3,
   "id": "091b3109-5e2d-4b70-b0f2-257850c7a1e8",
   "metadata": {},
   "outputs": [
    {
     "name": "stdout",
     "output_type": "stream",
     "text": [
      "cp: ディレクトリ '../book' を自分自身 './contents/book' にコピーできません\n"
     ]
    },
    {
     "ename": "",
     "evalue": "1",
     "output_type": "error",
     "traceback": []
    }
   ],
   "source": [
    "cp -rd ../* ./contents"
   ]
  },
  {
   "cell_type": "code",
   "execution_count": null,
   "id": "611d3d75-dddf-40d6-bd1d-aced580e517d",
   "metadata": {},
   "outputs": [
    {
     "name": "stdout",
     "output_type": "stream",
     "text": [
      "\u001b[32m\u001b[1mRunning Jupyter-Book v0.11.3\u001b[0m\n",
      "\u001b[34m\u001b[1mSource Folder: \u001b[0m/home/philab_member/working/book\n",
      "\u001b[34m\u001b[1mConfig Path: \u001b[0m/home/philab_member/working/book/_config.yml\n",
      "\u001b[34m\u001b[1mOutput Path: \u001b[0m/home/philab_member/working/book/_build/html\n",
      "\u001b[01mRunning Sphinx v3.5.4\u001b[39;49;00m\n",
      "[etoc] Changing master_doc to 'intro'\n",
      "\u001b[01mloading pickled environment... \u001b[39;49;00mchecking for /home/philab_member/working/book/references.bib in bibtex cache... up to date\n",
      "done\n",
      "\u001b[01mmyst v0.13.7:\u001b[39;49;00m MdParserConfig(renderer='sphinx', commonmark_only=False, dmath_allow_labels=True, dmath_allow_space=True, dmath_allow_digits=True, update_mathjax=True, enable_extensions=['colon_fence', 'dollarmath', 'linkify', 'substitution'], disable_syntax=[], url_schemes=['mailto', 'http', 'https'], heading_anchors=None, html_meta=[], footnote_transition=True, substitutions=[], sub_delimiters=['{', '}'])\n",
      "\u001b[01mbuilding [mo]: \u001b[39;49;00mtargets for 0 po files that are out of date\n",
      "\u001b[01mbuilding [html]: \u001b[39;49;00mtargets for 3 source files that are out of date\n"
     ]
    }
   ],
   "source": [
    "jb build ."
   ]
  },
  {
   "cell_type": "code",
   "execution_count": null,
   "id": "c4a5abf5-1277-4d43-8612-8be69e8e1709",
   "metadata": {},
   "outputs": [],
   "source": []
  }
 ],
 "metadata": {
  "kernelspec": {
   "display_name": "Bash",
   "language": "bash",
   "name": "bash"
  },
  "language_info": {
   "codemirror_mode": "shell",
   "file_extension": ".sh",
   "mimetype": "text/x-sh",
   "name": "bash"
  }
 },
 "nbformat": 4,
 "nbformat_minor": 5
}
