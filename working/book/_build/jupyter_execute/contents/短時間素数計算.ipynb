{
 "cells": [
  {
   "cell_type": "code",
   "execution_count": 1,
   "id": "6d134d92-f037-4e42-9723-c51c24763ebe",
   "metadata": {},
   "outputs": [],
   "source": [
    "int show_prime_numbers(int N){\n",
    "    int prime_numbers[1'000'000];\n",
    "    int prime_numbers_num = 0;\n",
    "    if(N>1'000'000){\n",
    "        cout << \"N must be 1 < N < 1,000,000. The input value is\" << N <<\".\" <<  endl;\n",
    "        return -1;\n",
    "    }\n",
    "    \n",
    "    prime_numbers[0] = 2;\n",
    "    prime_numbers_num += 1;\n",
    "    int tmp;\n",
    "    for(int n=2; n<N; n++){\n",
    "        for(int k=0; k<prime_numbers_num; k++){\n",
    "            tmp = prime_numbers[k];\n",
    "            if(n%tmp==0){\n",
    "                break;\n",
    "            }else if(k==prime_numbers_num-1){\n",
    "                prime_numbers[prime_numbers_num]=n;\n",
    "                prime_numbers_num+=1;\n",
    "            }\n",
    "        }\n",
    "    }\n",
    "    ofstream f;\n",
    "    f.open(\"prime_numbers.txt\", std::ios::out);\n",
    "    for(int i=0; i<prime_numbers_num; i++){\n",
    "        f << prime_numbers[i] << endl;\n",
    "    }\n",
    "    f.close();\n",
    "\n",
    "    return prime_numbers_num;\n",
    "}"
   ]
  },
  {
   "cell_type": "code",
   "execution_count": 3,
   "id": "b148803c-753d-4ebb-b483-c7e66c917225",
   "metadata": {},
   "outputs": [
    {
     "name": "stdout",
     "output_type": "stream",
     "text": [
      "(int) 17984\n",
      "Time: 3.1786859035491943 seconds.\n",
      "\n"
     ]
    }
   ],
   "source": [
    "%%time\n",
    "\n",
    "show_prime_numbers(200000)"
   ]
  },
  {
   "cell_type": "code",
   "execution_count": null,
   "id": "53b549fe-909f-490f-8293-478745f745a1",
   "metadata": {},
   "outputs": [],
   "source": []
  }
 ],
 "metadata": {
  "kernelspec": {
   "display_name": "ROOT C++",
   "language": "c++",
   "name": "root"
  },
  "language_info": {
   "codemirror_mode": "text/x-c++src",
   "file_extension": ".C",
   "mimetype": " text/x-c++src",
   "name": "c++"
  }
 },
 "nbformat": 4,
 "nbformat_minor": 5
}