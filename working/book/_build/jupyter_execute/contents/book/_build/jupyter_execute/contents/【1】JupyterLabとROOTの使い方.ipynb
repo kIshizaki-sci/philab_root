{
 "cells": [
  {
   "cell_type": "markdown",
   "id": "eed15e40-b495-41d0-b1c3-bf0951d91095",
   "metadata": {},
   "source": [
    "# CERN ROOT C++ on JupyterLab 使い方\n",
    "\n",
    "最終編集:石崎貢平 (2021/10/04)"
   ]
  },
  {
   "cell_type": "markdown",
   "id": "151b3af2-ff8f-4380-a6e5-40c4b47f1aa9",
   "metadata": {},
   "source": [
    "## JupyterLabとは"
   ]
  },
  {
   "cell_type": "markdown",
   "id": "df763289-9750-4de7-8498-d8d4a1b356f3",
   "metadata": {},
   "source": [
    "ブラウザ上でインタラクティブにデータ解析を行うことが出来るオープンソースのソフトウェア．Pythonでの利用が最も多いがC++やRust, Go, Juliaなどの言語でも利用できる．ROOTについてもJupyterLabで利用するためコード(kernel)が提供されているためJupyterLab上でROOTのコードを実行できる．  \n",
    "コマンドライン上でのROOTと比較した際のメリットは\n",
    "* Markdownやテキスト形式でメモを残せる．また図を載せることもできる．\n",
    "* 実行したコード内容が全て保存できる．\n",
    "\n",
    "が上げられる．\n",
    "\n",
    "機械学習などの方面で非常に良く利用されており，クラウドサービスでも利用されている．そのような背景があるためProject Jupyter自体がGoogleやMicrosoftといった巨大テック企業から経済的な支援を受けており，今後もしばらくは開発の継続が期待できるため学んでおいて損はないし習得も容易である．"
   ]
  },
  {
   "cell_type": "markdown",
   "id": "de410370-1059-4034-8f63-ba458668ec69",
   "metadata": {},
   "source": [
    "## CERN ROOTとは"
   ]
  },
  {
   "cell_type": "markdown",
   "id": "85efba21-bf44-4c76-8fae-12af2f42bf73",
   "metadata": {},
   "source": [
    "CERNのグループが開発している素粒子原子核物理に特化したデータ解析ソフトウェア．\n",
    "宇宙物理方面でも使われているらしい．主にC++用のライブラリとして提供されており，ROOTを使用したデータ解析にはC++の理解が重要である．\n",
    "C++は習得の容易な言語ではない．ifやforを使った簡単なコード，例えばフィボナッチ数列を計算する，などは出来るが構造体，ポインタ，オブジェクト指向の理解が不十分だという学生は多い．C++はPythonやRuby, C++に近い言語ではRust，など現代的な言語が必ず持っているエコシステムを持っていないため外部ライブラリの利用の仕方が分からないという学生も沢山見てきた．私自身もC++を十二分に使いこなせるわけではない．はっきり言ってC++なんてなるべく使いたくない．\n",
    "\n",
    "PythonでもROOT用の解析プログラムを書くことは出来るが，ライブラリ(モジュール)の説明は少なく，まともに使用するにはCERNのAPIドキュメントを理解するためにC++のオブジェクト指向の基礎的な概念(クラス，インスタンス，コンストラクタ，カプセル化，継承などなど)の理解が必要と言っても良い．\n",
    "\n",
    "また\"ROOT\"という単語はUnixにおける管理者権限をもつユーザの\"root\"と被っているため，検索するときや検索に引っかかるようにドキュメントを作る際は\"CERN ROOT\"と書くようにしている．"
   ]
  },
  {
   "cell_type": "markdown",
   "id": "3c25461f-5f23-4991-a863-2e4b911d9d8a",
   "metadata": {},
   "source": [
    "## このDockerイメージ\"philab-root\"について"
   ]
  },
  {
   "cell_type": "markdown",
   "id": "849b77e1-02c4-4637-91e8-dababe6453a9",
   "metadata": {},
   "source": [
    "コンピュータ上に仮想コンピュータを作ることを仮想化という．たとえばMac OS上でWindowsやLinuxを動かしたり，Windows上でLinuxを動かしたりできる．Dockerはコンテナ型仮想化を行うソフトウェアでDocker社によって開発されている．2021年10月時点で非商用および小規模のビジネスに限って無料で利用できる．コンテナ型仮想化はハイパーバーザー型の仮想化と比較して，本格的な仮想化ではないが，軽量で他のコンピュータでも仮想化したコンピュータを簡単に展開できるという利点がある．コンテナ型仮想化はすでにソフトウェアのテストのみならずアプリ開発やソフトウェアの講習会，またクラウドサービスの提供などにも組み込まれており，Dockerはそのデファクトスタンダードだと言える．\n",
    "\n",
    "このDockerイメージは[GitHub上のレポジトリ](https://github.com/kIshizaki-sci/philab_root)の中にある`philab_root_base/Dockerfile`と`Dockerfile`に書かれている設計図を元にビルドされている．逆にこの設計図を読めばどのようなセットアップでこの仮想化環境が作られたのかが分かる．Dockerイメージを元に立ち上げられた仮想化環境を`コンテナ`とよび，Dockerコンテナを動かしているコンピュータのことを`ホストマシン`とよぶ．\n",
    "\n",
    "このDockerイメージ`philab-root`は名古屋大学 理学研究科 素粒子宇宙物理学専攻 素粒子物性研究室(Φ研)での利用を想定して作られた．ビルド後のDockerイメージの中には様々なライセンス規約を持つソフトウェアのバイナリコードが含まれているので再配布などは行っていない．[GitHub上のレポジトリ](https://github.com/kIshizaki-sci/philab_root)のコード自体はMITライセンスで配布しているので，MITライセンスのもとで自由に使ってほしい．"
   ]
  },
  {
   "cell_type": "markdown",
   "id": "8061852b-b02e-4e8a-a803-a075dcdb6ba6",
   "metadata": {},
   "source": [
    "### このイメージのセットアップ\n",
    "このDockerイメージはDebian系のLinux OSである**Ubuntu 21.04**をベースにPython, JupyterLab, CERN ROOT, その他Pythonパッケージをrootユーザでインストールしてある．このDockerイメージを元にコンテナを立ち上げる際の設定は`docker-compose.yml`のなかに記されている．デフォルトではユーザは`philab_member`になっているが，`root`に書き換えることでrootユーザでコンテナを操作することも出来る．philab_memberはsudoのメンバーなのでコンテナの中ではsudoを使うことで管理者権限でpythonパッケージの導入などが可能．\n",
    "Unix初心者のために管理者権限で操作できいる範囲と一般ユーザで操作できる範囲を区別してもらうために敢えてこのような設計にした．philab_memberの**パスワードは\"plainpassword\"**．文字通りこのパスワードは平文でしかも公開しているためセキュリティリスクを伴う使用は絶対にしないでください．\n",
    "\n",
    "使用言語は日本語に設定しており，またx86処理系ではUbuntuのアップデートやセキュリティリスクの小さなパッケージのダウンロードは理研のミラーサーバを使うように設定している．そのためイメージのビルドはコンピュータのCPUによって所要時間が大きく変わってくる．\n",
    "\n",
    "このイメージではJupyterLabはデフォルトで`/home/philab_member/working`以下のディレクトリでコードやMarkdownを書いたりするように設定している．workingディレクトリ上で生成されたデータやコードはホストマシンともシンクロしており，コンテナ上で保存していればコンテナをシャットダウンした後でもファイルは残り続ける．\n",
    "\n",
    "```{bash}\n",
    "/home/philab_member\n",
    "├── html\n",
    "├── input\n",
    "├── output\n",
    "└── working\n",
    "    └── tutorial_data\n",
    "```"
   ]
  },
  {
   "cell_type": "code",
   "execution_count": 1,
   "id": "cb1ff61d-5f36-4d44-aae6-8dd2963ce655",
   "metadata": {},
   "outputs": [
    {
     "name": "stdout",
     "output_type": "stream",
     "text": [
      "/home/philab_member/working\n",
      "\n"
     ]
    }
   ],
   "source": [
    "!pwd"
   ]
  },
  {
   "cell_type": "markdown",
   "id": "7aeef813-f80e-48d2-a45e-8ee1426c3777",
   "metadata": {},
   "source": [
    "またホームディレクトリにはworkingディレクトリの他に2つのディレクトリが存在する．これらはホストマシン上の同名ディレクトリと中身がシンクロしている．\n",
    "* **input** : コンテナ上からファイルの読み込みが可能だが書き込みは不可能なディレクトリ．書き換えたり削除してしまうとまずい実験データをホストマシン上で入れておく．\n",
    "* **output** : 解析結果などを出力するためのディレクトリ．コンテナから読み込みと書き込みが可能．\n",
    "working, input, outputの3つのディレクトリはそれぞれホストマシンとシンクロしているのでコンテナをシャットダウンしてもホストマシン上に残り続けるが**それ以外のディレクトリで保存されたファイルはコンテナをシャットダウンすると消失する**．\n",
    "\n",
    "```{bash}\n",
    "\n",
    "```"
   ]
  },
  {
   "cell_type": "markdown",
   "id": "454e57a9-831f-4070-b36c-6d5b2e253101",
   "metadata": {},
   "source": [
    "## JupyterLabの操作"
   ]
  },
  {
   "cell_type": "markdown",
   "id": "92d2d7e3-c0e0-4e72-876f-55684357a9fc",
   "metadata": {},
   "source": [
    "* セルの実行：`Ctrl (or Command) + Enter`でセルを実行する．\n",
    "* 保存：`Ctrl (or Command) + Enter`でノートブックを保存．\n",
    "* セルの削除：セルを右クリックし`Delete Cells`\n",
    "* 新しいノートブックの作成：JupyterLabの左上にある+ボタンをクリック．"
   ]
  },
  {
   "cell_type": "markdown",
   "id": "c37c3001-c244-41b8-a0fe-8fe8ea2506a0",
   "metadata": {},
   "source": [
    "## 練習\n",
    "実際に2つのコードを動かしてみましょう．"
   ]
  },
  {
   "cell_type": "markdown",
   "id": "3a0b3d00-2745-4c97-9f29-495a0c594769",
   "metadata": {},
   "source": [
    "### 素数の計算\n",
    "以下のコードは$N (<1,000,000)$以下の素数を全て求めて\"prime_numbers.txt\"に保存し,$N$以下の素数の個数を返します．\n",
    "\n",
    "セルを指定した状態で`Ctrl+Enter`を押すとJust In Timeで関数が機械語にコンパイルされて，以降関数を使用できるようになります．では以下の2つのセルを実行しましょう．"
   ]
  },
  {
   "cell_type": "code",
   "execution_count": 2,
   "id": "9d612632-898f-4684-83da-dcc48d1df044",
   "metadata": {},
   "outputs": [],
   "source": [
    "int show_prime_numbers(int N){\n",
    "    int prime_numbers[1'000'000];\n",
    "    int prime_numbers_num = 0;\n",
    "    if(N>1'000'000){\n",
    "        cout << \"N must be 1 < N < 1,000,000. The input value is\" << N <<\".\" <<  endl;\n",
    "        return -1;\n",
    "    }\n",
    "    \n",
    "    prime_numbers[0] = 2;\n",
    "    prime_numbers_num += 1;\n",
    "    for(int n=2; n<N; n++){\n",
    "        for(int k=2; k<n; k++){\n",
    "            if(n%k==0){\n",
    "                break;\n",
    "            }else if(k==n-1){\n",
    "                prime_numbers[prime_numbers_num]=n;\n",
    "                prime_numbers_num+=1;\n",
    "            }\n",
    "        }\n",
    "    }\n",
    "    ofstream f;\n",
    "    f.open(\"prime_numbers.txt\", std::ios::out);\n",
    "    for(int i=0; i<prime_numbers_num; i++){\n",
    "        f << prime_numbers[i] << endl;\n",
    "    }\n",
    "    f.close();\n",
    "\n",
    "    return prime_numbers_num;\n",
    "}"
   ]
  },
  {
   "cell_type": "code",
   "execution_count": 3,
   "id": "d57a51c2-466e-4c9d-87be-47d8395102eb",
   "metadata": {},
   "outputs": [
    {
     "name": "stdout",
     "output_type": "stream",
     "text": [
      "(int) 25\n",
      "Time: 0.20095086097717285 seconds.\n",
      "\n"
     ]
    }
   ],
   "source": [
    "%%time\n",
    "show_prime_numbers(100)"
   ]
  },
  {
   "cell_type": "markdown",
   "id": "f82ad323-2ebd-44fd-abb7-bc0a9118d4fc",
   "metadata": {},
   "source": [
    "上のセルの`%%time`はJupyter notebookのマジックとよばれるものの１つで，セルの実行にかかった時間を返します．$N=500, 1000, 5000, 20000, 100000, 200000, 500000$でも実行してみましょう．"
   ]
  },
  {
   "cell_type": "code",
   "execution_count": 4,
   "id": "9fa12d5f-24af-4775-a2f3-b584f9dddbf9",
   "metadata": {},
   "outputs": [
    {
     "name": "stdout",
     "output_type": "stream",
     "text": [
      "(int) 95\n",
      "Time: 0.23241329193115234 seconds.\n",
      "\n"
     ]
    }
   ],
   "source": [
    "%%time\n",
    "show_prime_numbers(500)"
   ]
  },
  {
   "cell_type": "code",
   "execution_count": 5,
   "id": "166fba03-20f2-43de-8257-646e99510e4b",
   "metadata": {},
   "outputs": [
    {
     "name": "stdout",
     "output_type": "stream",
     "text": [
      "(int) 168\n",
      "Time: 0.2008986473083496 seconds.\n",
      "\n"
     ]
    }
   ],
   "source": [
    "%%time\n",
    "show_prime_numbers(1000)"
   ]
  },
  {
   "cell_type": "code",
   "execution_count": 6,
   "id": "b0946ff0-8527-4c7e-ad6c-75e8c22ebb4e",
   "metadata": {},
   "outputs": [
    {
     "name": "stdout",
     "output_type": "stream",
     "text": [
      "(int) 669\n",
      "Time: 0.30808067321777344 seconds.\n",
      "\n"
     ]
    }
   ],
   "source": [
    "%%time\n",
    "show_prime_numbers(5000)"
   ]
  },
  {
   "cell_type": "code",
   "execution_count": 7,
   "id": "b0e26db9-6c27-49a6-b6b1-4100edde8d1e",
   "metadata": {},
   "outputs": [
    {
     "name": "stdout",
     "output_type": "stream",
     "text": [
      "(int) 2262\n",
      "Time: 0.5797803401947021 seconds.\n",
      "\n"
     ]
    }
   ],
   "source": [
    "%%time\n",
    "show_prime_numbers(20000)"
   ]
  },
  {
   "cell_type": "code",
   "execution_count": 8,
   "id": "f97f7745-ed8e-46e9-81df-4a81047e695a",
   "metadata": {},
   "outputs": [
    {
     "name": "stdout",
     "output_type": "stream",
     "text": [
      "(int) 9592\n",
      "Time: 3.103656053543091 seconds.\n",
      "\n"
     ]
    }
   ],
   "source": [
    "%%time\n",
    "show_prime_numbers(100000)"
   ]
  },
  {
   "cell_type": "code",
   "execution_count": 9,
   "id": "b53d991f-a3c3-4743-a2d9-8ea6fbeb9887",
   "metadata": {},
   "outputs": [
    {
     "name": "stdout",
     "output_type": "stream",
     "text": [
      "(int) 17984\n",
      "Time: 8.762156248092651 seconds.\n",
      "\n"
     ]
    }
   ],
   "source": [
    "%%time\n",
    "show_prime_numbers(200000)"
   ]
  },
  {
   "cell_type": "code",
   "execution_count": 10,
   "id": "e7ba984d-1a7a-4b1c-b793-a18f051d5881",
   "metadata": {},
   "outputs": [
    {
     "name": "stdout",
     "output_type": "stream",
     "text": [
      "(int) 41538\n",
      "Time: 40.55622696876526 seconds.\n",
      "\n"
     ]
    }
   ],
   "source": [
    "%%time\n",
    "show_prime_numbers(500000)"
   ]
  },
  {
   "cell_type": "markdown",
   "id": "e048deb3-c550-4cf0-89b4-278c5264932a",
   "metadata": {},
   "source": [
    "では次にここで計算した素数の個数と$N$の関係をROOTを使用してグラフにしましょう．"
   ]
  },
  {
   "cell_type": "markdown",
   "id": "2a4b0c9e-ca9e-42ef-a7aa-8552a3a56d54",
   "metadata": {},
   "source": [
    "### ROOTを使ったグラフ描画"
   ]
  },
  {
   "cell_type": "markdown",
   "id": "aa518308-6443-4ece-8bce-a66d0600d0b9",
   "metadata": {},
   "source": [
    "ここではROOTを使って簡単なグラフを作成します．詳しいことは後の章で話しますがROOTでのグラフ描画の雰囲気を感じてみてください．"
   ]
  },
  {
   "cell_type": "code",
   "execution_count": 11,
   "id": "8f3899c9-dd01-4d8c-bfe2-bb1d253cf904",
   "metadata": {},
   "outputs": [],
   "source": [
    "TCanvas* c0 = new TCanvas(\"canvas0\", \"Prime number calculation time\", 600, 400);\n",
    "double N[8] = {100, 500, 1000, 5000, 20000, 100000, 200000, 500000};\n",
    "double t[8] = {0.20, 0.20, 0.20, 0.26, 0.58, 3.10, 8.68, 41.21};\n",
    "TGraph* graph = new TGraph(8, N, t);\n",
    "graph->Draw(\"AC*\");"
   ]
  },
  {
   "cell_type": "code",
   "execution_count": 12,
   "id": "b0784204-de4b-4ae7-bc04-343fa6f3f6b7",
   "metadata": {},
   "outputs": [
    {
     "data": {
      "image/png": "[encoded data removed]",
      "text/plain": [
       "<IPython.core.display.Image object>"
      ]
     },
     "metadata": {
      "filenames": {
       "image/png": "/home/philab_member/working/book/_build/jupyter_execute/contents/book/_build/jupyter_execute/contents/【1】JupyterLabとROOTの使い方_28_0.png"
      }
     },
     "output_type": "display_data"
    }
   ],
   "source": [
    "c0->Draw();"
   ]
  },
  {
   "cell_type": "markdown",
   "id": "973622eb-01a5-497e-9f80-b371165a84d5",
   "metadata": {},
   "source": [
    "magic command `%jsroot`を使うことでグラフの拡大などインタラクティブに操作できるグラフが描画されるようになります．"
   ]
  },
  {
   "cell_type": "code",
   "execution_count": 13,
   "id": "dac8cb36-a05f-4922-a39c-32560d8eded8",
   "metadata": {},
   "outputs": [],
   "source": [
    "%jsroot"
   ]
  },
  {
   "cell_type": "code",
   "execution_count": 14,
   "id": "118a2986-23b8-47f4-b1d6-c56eae0357dc",
   "metadata": {},
   "outputs": [
    {
     "data": {
      "text/html": [
       "\n",
       "\n",
       "<div id=\"root_plot_1633289588926\"\n",
       "     style=\"width: 596px; height: 372px\">\n",
       "</div>\n",
       "<script>\n",
       "\n",
       "function display_root_plot_1633289588926(Core) {\n",
       "   let obj = Core.parse({\"_typename\":\"TCanvas\",\"fUniqueID\":0,\"fBits\":3342344,\"fLineColor\":1,\"fLineStyle\":1,\"fLineWidth\":1,\"fFillColor\":0,\"fFillStyle\":1001,\"fLeftMargin\":0.1,\"fRightMargin\":0.1,\"fBottomMargin\":0.1,\"fTopMargin\":0.1,\"fXfile\":2,\"fYfile\":2,\"fAfile\":1,\"fXstat\":0.99,\"fYstat\":0.99,\"fAstat\":2,\"fFrameFillColor\":0,\"fFrameLineColor\":1,\"fFrameFillStyle\":1001,\"fFrameLineStyle\":1,\"fFrameLineWidth\":1,\"fFrameBorderSize\":1,\"fFrameBorderMode\":0,\"fX1\":-68748.7551221813,\"fY1\":-5.46137542031522,\"fX2\":618738.755122181,\"fY2\":50.9523754203152,\"fXtoAbsPixelk\":59.600053552437,\"fXtoPixelk\":59.600053552437,\"fXtoPixel\":8.66924840260961e-4,\"fYtoAbsPixelk\":335.986992437197,\"fYtoPixelk\":335.986992437197,\"fYtoPixel\":-6.59413696938721,\"fUtoAbsPixelk\":5e-5,\"fUtoPixelk\":5e-5,\"fUtoPixel\":596,\"fVtoAbsPixelk\":372.00005,\"fVtoPixelk\":372,\"fVtoPixel\":-372,\"fAbsPixeltoXk\":-68748.7551221813,\"fPixeltoXk\":-68748.7551221813,\"fPixeltoX\":1153.50253396705,\"fAbsPixeltoYk\":50.9523754203152,\"fPixeltoYk\":-5.46137542031522,\"fPixeltoY\":-0.151649867851157,\"fXlowNDC\":0,\"fYlowNDC\":0,\"fXUpNDC\":1,\"fYUpNDC\":1,\"fWNDC\":1,\"fHNDC\":1,\"fAbsXlowNDC\":0,\"fAbsYlowNDC\":0,\"fAbsWNDC\":1,\"fAbsHNDC\":1,\"fUxmin\":0,\"fUymin\":0.18,\"fUxmax\":549990,\"fUymax\":45.311,\"fTheta\":30,\"fPhi\":30,\"fAspectRatio\":0,\"fNumber\":0,\"fTickx\":0,\"fTicky\":0,\"fLogx\":0,\"fLogy\":0,\"fLogz\":0,\"fPadPaint\":0,\"fCrosshair\":0,\"fCrosshairPos\":0,\"fBorderSize\":2,\"fBorderMode\":0,\"fModified\":false,\"fGridx\":false,\"fGridy\":false,\"fAbsCoord\":false,\"fEditable\":true,\"fFixedAspectRatio\":false,\"fPrimitives\":{\"_typename\":\"TList\",\"name\":\"TList\",\"arr\":[{\"_typename\":\"TFrame\",\"fUniqueID\":0,\"fBits\":8,\"fLineColor\":1,\"fLineStyle\":1,\"fLineWidth\":1,\"fFillColor\":0,\"fFillStyle\":1001,\"fX1\":0,\"fY1\":0.18,\"fX2\":549990,\"fY2\":45.311,\"fBorderSize\":1,\"fBorderMode\":0},{\"_typename\":\"TGraph\",\"fUniqueID\":0,\"fBits\":1032,\"fName\":\"Graph\",\"fTitle\":\"Graph\",\"fLineColor\":1,\"fLineStyle\":1,\"fLineWidth\":1,\"fFillColor\":0,\"fFillStyle\":1000,\"fMarkerColor\":1,\"fMarkerStyle\":3,\"fMarkerSize\":1,\"fNpoints\":8,\"fX\":[100,500,1000,5000,20000,100000,200000,500000],\"fY\":[0.2,0.2,0.2,0.26,0.58,3.1,8.68,41.21],\"fFunctions\":{\"_typename\":\"TList\",\"name\":\"TList\",\"arr\":[],\"opt\":[]},\"fHistogram\":{\"_typename\":\"TH1F\",\"fUniqueID\":0,\"fBits\":512,\"fName\":\"Graph\",\"fTitle\":\"Graph\",\"fLineColor\":602,\"fLineStyle\":1,\"fLineWidth\":1,\"fFillColor\":0,\"fFillStyle\":1001,\"fMarkerColor\":1,\"fMarkerStyle\":1,\"fMarkerSize\":1,\"fNcells\":102,\"fXaxis\":{\"_typename\":\"TAxis\",\"fUniqueID\":0,\"fBits\":0,\"fName\":\"xaxis\",\"fTitle\":\"\",\"fNdivisions\":510,\"fAxisColor\":1,\"fLabelColor\":1,\"fLabelFont\":42,\"fLabelOffset\":0.005,\"fLabelSize\":0.035,\"fTickLength\":0.03,\"fTitleOffset\":1,\"fTitleSize\":0.035,\"fTitleColor\":1,\"fTitleFont\":42,\"fNbins\":100,\"fXmin\":0,\"fXmax\":549990,\"fXbins\":[],\"fFirst\":0,\"fLast\":0,\"fBits2\":0,\"fTimeDisplay\":false,\"fTimeFormat\":\"\",\"fLabels\":null,\"fModLabs\":null},\"fYaxis\":{\"_typename\":\"TAxis\",\"fUniqueID\":0,\"fBits\":0,\"fName\":\"yaxis\",\"fTitle\":\"\",\"fNdivisions\":510,\"fAxisColor\":1,\"fLabelColor\":1,\"fLabelFont\":42,\"fLabelOffset\":0.005,\"fLabelSize\":0.035,\"fTickLength\":0.03,\"fTitleOffset\":0,\"fTitleSize\":0.035,\"fTitleColor\":1,\"fTitleFont\":42,\"fNbins\":1,\"fXmin\":0.18,\"fXmax\":45.311,\"fXbins\":[],\"fFirst\":0,\"fLast\":0,\"fBits2\":0,\"fTimeDisplay\":false,\"fTimeFormat\":\"\",\"fLabels\":null,\"fModLabs\":null},\"fZaxis\":{\"_typename\":\"TAxis\",\"fUniqueID\":0,\"fBits\":0,\"fName\":\"zaxis\",\"fTitle\":\"\",\"fNdivisions\":510,\"fAxisColor\":1,\"fLabelColor\":1,\"fLabelFont\":42,\"fLabelOffset\":0.005,\"fLabelSize\":0.035,\"fTickLength\":0.03,\"fTitleOffset\":1,\"fTitleSize\":0.035,\"fTitleColor\":1,\"fTitleFont\":42,\"fNbins\":1,\"fXmin\":0,\"fXmax\":1,\"fXbins\":[],\"fFirst\":0,\"fLast\":0,\"fBits2\":0,\"fTimeDisplay\":false,\"fTimeFormat\":\"\",\"fLabels\":null,\"fModLabs\":null},\"fBarOffset\":0,\"fBarWidth\":1000,\"fEntries\":0,\"fTsumw\":0,\"fTsumw2\":0,\"fTsumwx\":0,\"fTsumwx2\":0,\"fMaximum\":45.311,\"fMinimum\":0.18,\"fNormFactor\":0,\"fContour\":[],\"fSumw2\":[],\"fOption\":\"\",\"fFunctions\":{\"_typename\":\"TList\",\"name\":\"TList\",\"arr\":[],\"opt\":[]},\"fBufferSize\":0,\"fBuffer\":[],\"fBinStatErrOpt\":0,\"fStatOverflows\":2,\"fArray\":[0,0,0,0,0,0,0,0,0,0,0,0,0,0,0,0,0,0,0,0,0,0,0,0,0,0,0,0,0,0,0,0,0,0,0,0,0,0,0,0,0,0,0,0,0,0,0,0,0,0,0,0,0,0,0,0,0,0,0,0,0,0,0,0,0,0,0,0,0,0,0,0,0,0,0,0,0,0,0,0,0,0,0,0,0,0,0,0,0,0,0,0,0,0,0,0,0,0,0,0,0,0]},\"fMinimum\":-1111,\"fMaximum\":-1111},{\"_typename\":\"TPaveText\",\"fUniqueID\":0,\"fBits\":9,\"fLineColor\":1,\"fLineStyle\":1,\"fLineWidth\":1,\"fFillColor\":0,\"fFillStyle\":0,\"fX1\":236398.805213463,\"fY1\":47.030710106686,\"fX2\":313591.194786538,\"fY2\":50.6703069351138,\"fX1NDC\":0.443859060402685,\"fY1NDC\":0.930483875736113,\"fX2NDC\":0.556140939597315,\"fY2NDC\":0.995000004768372,\"fBorderSize\":0,\"fInit\":1,\"fShadowColor\":1,\"fCornerRadius\":0,\"fOption\":\"blNDC\",\"fName\":\"title\",\"fTextAngle\":0,\"fTextSize\":0,\"fTextAlign\":22,\"fTextColor\":1,\"fTextFont\":42,\"fLabel\":\"\",\"fLongest\":5,\"fMargin\":0.05,\"fLines\":{\"_typename\":\"TList\",\"name\":\"TList\",\"arr\":[{\"_typename\":\"TLatex\",\"fUniqueID\":0,\"fBits\":0,\"fName\":\"\",\"fTitle\":\"Graph\",\"fTextAngle\":0,\"fTextSize\":0,\"fTextAlign\":0,\"fTextColor\":0,\"fTextFont\":0,\"fX\":0,\"fY\":0,\"fLineColor\":1,\"fLineStyle\":1,\"fLineWidth\":2,\"fLimitFactorSize\":3,\"fOriginSize\":0.0548387095332146}],\"opt\":[\"\"]}},{\"_typename\":\"TStyle\",\"fUniqueID\":0,\"fBits\":0,\"fName\":\"Modern\",\"fTitle\":\"Modern Style\",\"fLineColor\":1,\"fLineStyle\":1,\"fLineWidth\":1,\"fFillColor\":19,\"fFillStyle\":1001,\"fMarkerColor\":1,\"fMarkerStyle\":1,\"fMarkerSize\":1,\"fTextAngle\":0,\"fTextSize\":0.05,\"fTextAlign\":11,\"fTextColor\":1,\"fTextFont\":62,\"fXaxis\":{\"_typename\":\"TAttAxis\",\"fNdivisions\":510,\"fAxisColor\":1,\"fLabelColor\":1,\"fLabelFont\":42,\"fLabelOffset\":0.005,\"fLabelSize\":0.035,\"fTickLength\":0.03,\"fTitleOffset\":1,\"fTitleSize\":0.035,\"fTitleColor\":1,\"fTitleFont\":42},\"fYaxis\":{\"_typename\":\"TAttAxis\",\"fNdivisions\":510,\"fAxisColor\":1,\"fLabelColor\":1,\"fLabelFont\":42,\"fLabelOffset\":0.005,\"fLabelSize\":0.035,\"fTickLength\":0.03,\"fTitleOffset\":0,\"fTitleSize\":0.035,\"fTitleColor\":1,\"fTitleFont\":42},\"fZaxis\":{\"_typename\":\"TAttAxis\",\"fNdivisions\":510,\"fAxisColor\":1,\"fLabelColor\":1,\"fLabelFont\":42,\"fLabelOffset\":0.005,\"fLabelSize\":0.035,\"fTickLength\":0.03,\"fTitleOffset\":1,\"fTitleSize\":0.035,\"fTitleColor\":1,\"fTitleFont\":42},\"fBarWidth\":1,\"fBarOffset\":0,\"fColorModelPS\":0,\"fDrawBorder\":0,\"fOptLogx\":0,\"fOptLogy\":0,\"fOptLogz\":0,\"fOptDate\":0,\"fOptStat\":1111,\"fOptTitle\":1,\"fOptFile\":0,\"fOptFit\":0,\"fShowEventStatus\":0,\"fShowEditor\":0,\"fShowToolBar\":0,\"fNumberContours\":20,\"fAttDate\":{\"_typename\":\"TAttText\",\"fTextAngle\":0,\"fTextSize\":0.025,\"fTextAlign\":11,\"fTextColor\":1,\"fTextFont\":62},\"fDateX\":0.01,\"fDateY\":0.01,\"fEndErrorSize\":2,\"fErrorX\":0.5,\"fFuncColor\":2,\"fFuncStyle\":1,\"fFuncWidth\":2,\"fGridColor\":0,\"fGridStyle\":3,\"fGridWidth\":1,\"fLegendBorderSize\":1,\"fLegendFillColor\":0,\"fLegendFont\":42,\"fLegendTextSize\":0,\"fHatchesLineWidth\":1,\"fHatchesSpacing\":1,\"fFrameFillColor\":0,\"fFrameLineColor\":1,\"fFrameFillStyle\":1001,\"fFrameLineStyle\":1,\"fFrameLineWidth\":1,\"fFrameBorderSize\":1,\"fFrameBorderMode\":0,\"fHistFillColor\":0,\"fHistLineColor\":602,\"fHistFillStyle\":1001,\"fHistLineStyle\":1,\"fHistLineWidth\":1,\"fHistMinimumZero\":false,\"fHistTopMargin\":0.05,\"fCanvasPreferGL\":false,\"fCanvasColor\":0,\"fCanvasBorderSize\":2,\"fCanvasBorderMode\":0,\"fCanvasDefH\":500,\"fCanvasDefW\":700,\"fCanvasDefX\":10,\"fCanvasDefY\":10,\"fPadColor\":0,\"fPadBorderSize\":2,\"fPadBorderMode\":0,\"fPadBottomMargin\":0.1,\"fPadTopMargin\":0.1,\"fPadLeftMargin\":0.1,\"fPadRightMargin\":0.1,\"fPadGridX\":false,\"fPadGridY\":false,\"fPadTickX\":0,\"fPadTickY\":0,\"fPaperSizeX\":20,\"fPaperSizeY\":26,\"fScreenFactor\":1,\"fStatColor\":0,\"fStatTextColor\":1,\"fStatBorderSize\":1,\"fStatFont\":42,\"fStatFontSize\":0,\"fStatStyle\":1001,\"fStatFormat\":\"6.4g\",\"fStatX\":0.98,\"fStatY\":0.935,\"fStatW\":0.2,\"fStatH\":0.16,\"fStripDecimals\":true,\"fTitleAlign\":23,\"fTitleColor\":0,\"fTitleTextColor\":1,\"fTitleBorderSize\":0,\"fTitleFont\":42,\"fTitleFontSize\":0.05,\"fTitleStyle\":0,\"fTitleX\":0.5,\"fTitleY\":0.995,\"fTitleW\":0,\"fTitleH\":0,\"fLegoInnerR\":0.5,\"fLineStyle\":[\"\",\"  \",\" 12 12\",\" 4 8\",\" 12 16 4 16\",\" 20 12 4 12\",\" 20 12 4 12 4 12 4 12\",\" 20 20\",\" 20 12 4 12 4 12\",\" 80 20\",\" 80 40 4 40\",\"  \",\"  \",\"  \",\"  \",\"  \",\"  \",\"  \",\"  \",\"  \",\"  \",\"  \",\"  \",\"  \",\"  \",\"  \",\"  \",\"  \",\"  \",\"  \"],\"fHeaderPS\":\"\",\"fTitlePS\":\"\",\"fFitFormat\":\"5.4g\",\"fPaintTextFormat\":\"g\",\"fLineScalePS\":3,\"fJoinLinePS\":0,\"fCapLinePS\":0,\"fTimeOffset\":788918400,\"fImageScaling\":1}],\"opt\":[\"\",\"acp\",\"blNDC\",\"\"]},\"fExecs\":null,\"fName\":\"canvas0\",\"fTitle\":\"Prime number calculation time\",\"fNumPaletteColor\":0,\"fNextPaletteColor\":0,\"fDISPLAY\":\"$DISPLAY\",\"fDoubleBuffer\":0,\"fRetained\":true,\"fXsizeUser\":0,\"fYsizeUser\":0,\"fXsizeReal\":20,\"fYsizeReal\":13.33333,\"fWindowTopX\":0,\"fWindowTopY\":0,\"fWindowWidth\":0,\"fWindowHeight\":0,\"fCw\":596,\"fCh\":372,\"fCatt\":{\"_typename\":\"TAttCanvas\",\"fXBetween\":2,\"fYBetween\":2,\"fTitleFromTop\":1.2,\"fXdate\":0.2,\"fYdate\":0.3,\"fAdate\":1},\"kMoveOpaque\":true,\"kResizeOpaque\":true,\"fHighLightColor\":2,\"fBatch\":true,\"kShowEventStatus\":false,\"kAutoExec\":true,\"kMenuBar\":true});\n",
       "   Core.settings.HandleKeys = false;\n",
       "   Core.draw(\"root_plot_1633289588926\", obj, \"\");\n",
       "}\n",
       "\n",
       "function script_load_root_plot_1633289588926(src, on_error) {\n",
       "    let script = document.createElement('script');\n",
       "    script.src = src;\n",
       "    script.onload = function() { display_root_plot_1633289588926(JSROOT); };\n",
       "    script.onerror = function() { script.remove(); on_error(); };\n",
       "    document.head.appendChild(script);\n",
       "}\n",
       "\n",
       "if (typeof requirejs !== 'undefined') {\n",
       "\n",
       "    // We are in jupyter notebooks, use require.js which should be configured already\n",
       "    requirejs.config({\n",
       "       paths: { 'JSRootCore' : [ 'scripts/JSRoot.core', 'https://root.cern/js/6.1.1/scripts/JSRoot.core.min', 'https://jsroot.gsi.de/6.1.1/scripts/JSRoot.core.min' ] }\n",
       "    })(['JSRootCore'],  function(Core) {\n",
       "       display_root_plot_1633289588926(Core);\n",
       "    });\n",
       "\n",
       "} else if (typeof JSROOT !== 'undefined') {\n",
       "\n",
       "   // JSROOT already loaded, just use it\n",
       "   display_root_plot_1633289588926(JSROOT);\n",
       "\n",
       "} else {\n",
       "\n",
       "    // We are in jupyterlab without require.js, directly loading jsroot\n",
       "    // Jupyterlab might be installed in a different base_url so we need to know it.\n",
       "    try {\n",
       "        var base_url = JSON.parse(document.getElementById('jupyter-config-data').innerHTML).baseUrl;\n",
       "    } catch(_) {\n",
       "        var base_url = '/';\n",
       "    }\n",
       "\n",
       "    // Try loading a local version of requirejs and fallback to cdn if not possible.\n",
       "    script_load_root_plot_1633289588926(base_url + 'static/scripts/JSRoot.core.js', function(){\n",
       "        console.error('Fail to load JSROOT locally, please check your jupyter_notebook_config.py file');\n",
       "        script_load_root_plot_1633289588926('https://root.cern/js/6.1.1/scripts/JSRoot.core.min.js', function(){\n",
       "            document.getElementById(\"root_plot_1633289588926\").innerHTML = \"Failed to load JSROOT\";\n",
       "        });\n",
       "    });\n",
       "}\n",
       "\n",
       "</script>\n"
      ],
      "text/plain": [
       "<IPython.core.display.HTML object>"
      ]
     },
     "metadata": {},
     "output_type": "display_data"
    }
   ],
   "source": [
    "c0->Draw();"
   ]
  },
  {
   "cell_type": "markdown",
   "id": "9c55c420-9393-4451-8cda-3d7b47163683",
   "metadata": {},
   "source": [
    "## 練習課題\n",
    "この章で使った素数計算のコードを少し改変することで$N\\gtrsim 200,000$ならば計算に要する時間を半分程度まで減らすことが出来ます．計算時間を減らす方法を考えて実装してみてください．"
   ]
  },
  {
   "cell_type": "code",
   "execution_count": null,
   "id": "fe234222-97cf-4e68-8354-622306b9e8a7",
   "metadata": {},
   "outputs": [],
   "source": []
  }
 ],
 "metadata": {
  "kernelspec": {
   "display_name": "ROOT C++",
   "language": "c++",
   "name": "root"
  },
  "language_info": {
   "codemirror_mode": "text/x-c++src",
   "file_extension": ".C",
   "mimetype": " text/x-c++src",
   "name": "c++"
  }
 },
 "nbformat": 4,
 "nbformat_minor": 5
}