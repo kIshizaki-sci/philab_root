{
 "cells": [
  {
   "cell_type": "code",
   "execution_count": 1,
   "id": "f737d93c-a667-4c60-b4de-4bd4c6f6f8f0",
   "metadata": {},
   "outputs": [
    {
     "name": "stdout",
     "output_type": "stream",
     "text": [
      "/home/philab_member/working/book\n"
     ]
    }
   ],
   "source": [
    "pwd"
   ]
  },
  {
   "cell_type": "code",
   "execution_count": 2,
   "id": "ed573c8d-63ed-458a-99b9-dd76243fab55",
   "metadata": {},
   "outputs": [],
   "source": [
    "rm -rd contents/*"
   ]
  },
  {
   "cell_type": "code",
   "execution_count": 3,
   "id": "091b3109-5e2d-4b70-b0f2-257850c7a1e8",
   "metadata": {},
   "outputs": [
    {
     "name": "stdout",
     "output_type": "stream",
     "text": [
      "cp: ディレクトリ '../book' を自分自身 './contents/book' にコピーできません\n"
     ]
    },
    {
     "ename": "",
     "evalue": "1",
     "output_type": "error",
     "traceback": []
    }
   ],
   "source": [
    "cp -rd ../* ./contents"
   ]
  },
  {
   "cell_type": "code",
   "execution_count": 4,
   "id": "611d3d75-dddf-40d6-bd1d-aced580e517d",
   "metadata": {},
   "outputs": [
    {
     "name": "stdout",
     "output_type": "stream",
     "text": [
      "\u001b[32m\u001b[1mRunning Jupyter-Book v0.11.3\u001b[0m\n",
      "\u001b[34m\u001b[1mSource Folder: \u001b[0m/home/philab_member/working/book\n",
      "\u001b[34m\u001b[1mConfig Path: \u001b[0m/home/philab_member/working/book/_config.yml\n",
      "\u001b[34m\u001b[1mOutput Path: \u001b[0m/home/philab_member/working/book/_build/html\n",
      "\u001b[01mRunning Sphinx v3.5.4\u001b[39;49;00m\n",
      "[etoc] Changing master_doc to 'intro'\n",
      "\u001b[01mloading pickled environment... \u001b[39;49;00mchecking for /home/philab_member/working/book/references.bib in bibtex cache... up to date\n",
      "done\n",
      "\u001b[01mmyst v0.13.7:\u001b[39;49;00m MdParserConfig(renderer='sphinx', commonmark_only=False, dmath_allow_labels=True, dmath_allow_space=True, dmath_allow_digits=True, update_mathjax=True, enable_extensions=['colon_fence', 'dollarmath', 'linkify', 'substitution'], disable_syntax=[], url_schemes=['mailto', 'http', 'https'], heading_anchors=None, html_meta=[], footnote_transition=True, substitutions=[], sub_delimiters=['{', '}'])\n",
      "\u001b[01mbuilding [mo]: \u001b[39;49;00mtargets for 0 po files that are out of date\n",
      "\u001b[01mbuilding [html]: \u001b[39;49;00mtargets for 3 source files that are out of date\n",
      "\u001b[01mupdating environment: \u001b[39;49;00m16 added, 2 changed, 1 removed\n",
      "Executing: Untitled in: /home/philab_member/working/book[39;49;00m                                              \n",
      "\u001b[01mreading sources... \u001b[39;49;00m[ 11%] \u001b[35mcontents/book/Untitled\u001b[39;49;00m                                \n",
      "\u001b[91mException occurred:\u001b[39;49;00m\n",
      "  File \"/usr/local/lib/python3.9/dist-packages/docutils/io.py\", line 240, in __init__\n",
      "    raise InputError(error.errno, error.strerror, source_path)\n",
      "docutils.io.InputError: [Errno 2] No such file or directory: '/home/philab_member/working/book/contents/book/Untitled.rst'\n",
      "\u001b[91mThe full traceback has been saved in /tmp/sphinx-err-av1gfu7k.log, if you want to report the issue to the developers.\u001b[39;49;00m\n",
      "Please also report this if it was a user error, so that a better error message can be provided next time.\n",
      "A bug report can be filed in the tracker at <https://github.com/sphinx-doc/sphinx/issues>. Thanks!\n",
      "Traceback (most recent call last):\n",
      "  File \"/usr/local/lib/python3.9/dist-packages/docutils/io.py\", line 238, in __init__\n",
      "    self.source = open(source_path, mode, **kwargs)\n",
      "FileNotFoundError: [Errno 2] No such file or directory: '/home/philab_member/working/book/contents/book/Untitled.rst'\n",
      "\n",
      "During handling of the above exception, another exception occurred:\n",
      "\n",
      "Traceback (most recent call last):\n",
      "  File \"/usr/local/lib/python3.9/dist-packages/jupyter_book/sphinx.py\", line 167, in build_sphinx\n",
      "    app.build(force_all, filenames)\n",
      "  File \"/usr/local/lib/python3.9/dist-packages/sphinx/application.py\", line 352, in build\n",
      "    self.builder.build_update()\n",
      "  File \"/usr/local/lib/python3.9/dist-packages/sphinx/builders/__init__.py\", line 296, in build_update\n",
      "    self.build(to_build,\n",
      "  File \"/usr/local/lib/python3.9/dist-packages/sphinx/builders/__init__.py\", line 310, in build\n",
      "    updated_docnames = set(self.read())\n",
      "  File \"/usr/local/lib/python3.9/dist-packages/sphinx/builders/__init__.py\", line 417, in read\n",
      "    self._read_serial(docnames)\n",
      "  File \"/usr/local/lib/python3.9/dist-packages/sphinx/builders/__init__.py\", line 438, in _read_serial\n",
      "    self.read_doc(docname)\n",
      "  File \"/usr/local/lib/python3.9/dist-packages/sphinx/builders/__init__.py\", line 478, in read_doc\n",
      "    doctree = read_doc(self.app, self.env, self.env.doc2path(docname))\n",
      "  File \"/usr/local/lib/python3.9/dist-packages/sphinx/io.py\", line 219, in read_doc\n",
      "    pub.set_source(source_path=filename)\n",
      "  File \"/usr/local/lib/python3.9/dist-packages/docutils/core.py\", line 178, in set_source\n",
      "    self.source = self.source_class(\n",
      "  File \"/usr/local/lib/python3.9/dist-packages/sphinx/io.py\", line 178, in __init__\n",
      "    super().__init__(*args, **kwargs)\n",
      "  File \"/usr/local/lib/python3.9/dist-packages/docutils/io.py\", line 240, in __init__\n",
      "    raise InputError(error.errno, error.strerror, source_path)\n",
      "docutils.io.InputError: [Errno 2] No such file or directory: '/home/philab_member/working/book/contents/book/Untitled.rst'\n",
      "\n",
      "The above exception was the direct cause of the following exception:\n",
      "\n",
      "Traceback (most recent call last):\n",
      "  File \"/usr/local/bin/jb\", line 8, in <module>\n",
      "    sys.exit(main())\n",
      "  File \"/usr/local/lib/python3.9/dist-packages/click/core.py\", line 829, in __call__\n",
      "    return self.main(*args, **kwargs)\n",
      "  File \"/usr/local/lib/python3.9/dist-packages/click/core.py\", line 782, in main\n",
      "    rv = self.invoke(ctx)\n",
      "  File \"/usr/local/lib/python3.9/dist-packages/click/core.py\", line 1259, in invoke\n",
      "    return _process_result(sub_ctx.command.invoke(sub_ctx))\n",
      "  File \"/usr/local/lib/python3.9/dist-packages/click/core.py\", line 1066, in invoke\n",
      "    return ctx.invoke(self.callback, **ctx.params)\n",
      "  File \"/usr/local/lib/python3.9/dist-packages/click/core.py\", line 610, in invoke\n",
      "    return callback(*args, **kwargs)\n",
      "  File \"/usr/local/lib/python3.9/dist-packages/jupyter_book/cli/main.py\", line 319, in build\n",
      "    builder_specific_actions(\n",
      "  File \"/usr/local/lib/python3.9/dist-packages/jupyter_book/cli/main.py\", line 519, in builder_specific_actions\n",
      "    raise RuntimeError(_message_box(msg, color=\"red\", doprint=False)) from result\n",
      "RuntimeError: \n",
      "\u001b[91m===============================================================================\u001b[0m\n",
      "\n",
      "There was an error in building your book. Look above for the cause.\n",
      "\n",
      "\u001b[91m===============================================================================\u001b[0m\n",
      "\n"
     ]
    },
    {
     "ename": "",
     "evalue": "1",
     "output_type": "error",
     "traceback": []
    }
   ],
   "source": [
    "jb build ."
   ]
  },
  {
   "cell_type": "code",
   "execution_count": null,
   "id": "c4a5abf5-1277-4d43-8612-8be69e8e1709",
   "metadata": {},
   "outputs": [],
   "source": []
  }
 ],
 "metadata": {
  "kernelspec": {
   "display_name": "Bash",
   "language": "bash",
   "name": "bash"
  },
  "language_info": {
   "codemirror_mode": "shell",
   "file_extension": ".sh",
   "mimetype": "text/x-sh",
   "name": "bash"
  }
 },
 "nbformat": 4,
 "nbformat_minor": 5
}