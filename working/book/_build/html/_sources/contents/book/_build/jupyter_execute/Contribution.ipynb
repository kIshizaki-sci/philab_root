{
 "cells": [
  {
   "cell_type": "code",
   "execution_count": 5,
   "id": "f737d93c-a667-4c60-b4de-4bd4c6f6f8f0",
   "metadata": {},
   "outputs": [
    {
     "name": "stdout",
     "output_type": "stream",
     "text": [
      "/home/philab_member/working/book\n"
     ]
    }
   ],
   "source": [
    "pwd"
   ]
  },
  {
   "cell_type": "code",
   "execution_count": 2,
   "id": "ed573c8d-63ed-458a-99b9-dd76243fab55",
   "metadata": {},
   "outputs": [],
   "source": [
    "rm -rd contents/*"
   ]
  },
  {
   "cell_type": "code",
   "execution_count": 6,
   "id": "091b3109-5e2d-4b70-b0f2-257850c7a1e8",
   "metadata": {},
   "outputs": [
    {
     "name": "stdout",
     "output_type": "stream",
     "text": [
      "cp: ディレクトリ '../book' を自分自身 './contents/book' にコピーできません\n"
     ]
    },
    {
     "ename": "",
     "evalue": "1",
     "output_type": "error",
     "traceback": []
    }
   ],
   "source": [
    "cp -rd ../* ./contents"
   ]
  },
  {
   "cell_type": "code",
   "execution_count": 8,
   "id": "c64eab98-d01c-421d-8eab-c953313c9c40",
   "metadata": {},
   "outputs": [
    {
     "name": "stdout",
     "output_type": "stream",
     "text": [
      "合計 320\n",
      "drwxr-xr-x 1 philab_member philab_member   4096 10月  5 00:17 .\n",
      "drwxr-xr-x 1 philab_member philab_member   4096 10月  5 00:16 ..\n",
      "drwxr-xr-x 1 philab_member philab_member   4096 10月  4 23:58 .ipynb_checkpoints\n",
      "drwxr-xr-x 1 philab_member philab_member   4096 10月  5 00:17 book\n",
      "drwxr-xr-x 1 philab_member philab_member   4096 10月  5 00:17 images\n",
      "-rw-r--r-- 1 philab_member philab_member 279748 10月  5 00:17 prime_numbers.txt\n",
      "drwxr-xr-x 1 philab_member philab_member   4096 10月  5 00:17 tutorial_data\n",
      "-rw-r--r-- 1 philab_member philab_member  39249 10月  5 00:17 【1】JupyterLabとROOTの使い方.ipynb\n",
      "-rw-r--r-- 1 philab_member philab_member   2141 10月  5 00:17 短時間素数計算.ipynb\n"
     ]
    }
   ],
   "source": [
    "ls -la contents"
   ]
  },
  {
   "cell_type": "code",
   "execution_count": 9,
   "id": "611d3d75-dddf-40d6-bd1d-aced580e517d",
   "metadata": {},
   "outputs": [
    {
     "name": "stdout",
     "output_type": "stream",
     "text": [
      "\u001b[32m\u001b[1mRunning Jupyter-Book v0.11.3\u001b[0m\n",
      "\u001b[34m\u001b[1mSource Folder: \u001b[0m/home/philab_member/working/book\n",
      "\u001b[34m\u001b[1mConfig Path: \u001b[0m/home/philab_member/working/book/_config.yml\n",
      "\u001b[34m\u001b[1mOutput Path: \u001b[0m/home/philab_member/working/book/_build/html\n",
      "\u001b[01mRunning Sphinx v3.5.4\u001b[39;49;00m\n",
      "[etoc] Changing master_doc to 'intro'\n",
      "checking for /home/philab_member/working/book/references.bib in bibtex cache... not found\n",
      "parsing bibtex file /home/philab_member/working/book/references.bib... parsed 5 entries\n",
      "\u001b[01mmyst v0.13.7:\u001b[39;49;00m MdParserConfig(renderer='sphinx', commonmark_only=False, dmath_allow_labels=True, dmath_allow_space=True, dmath_allow_digits=True, update_mathjax=True, enable_extensions=['colon_fence', 'dollarmath', 'linkify', 'substitution'], disable_syntax=[], url_schemes=['mailto', 'http', 'https'], heading_anchors=None, html_meta=[], footnote_transition=True, substitutions=[], sub_delimiters=['{', '}'])\n",
      "\u001b[01mbuilding [mo]: \u001b[39;49;00mtargets for 0 po files that are out of date\n",
      "\u001b[01mbuilding [html]: \u001b[39;49;00mtargets for 20 source files that are out of date\n",
      "\u001b[01mupdating environment: \u001b[39;49;00m[new config] 20 added, 0 changed, 0 removed\n",
      "Executing: Contribution in: /home/philab_member/working/book[39;49;00m                                          \n",
      "Executing: contents/book/Contribution in: /home/philab_member/working/book/contents/book                        \n",
      "Executing: contents/book/_build/jupyter_execute/Untitled in: /home/philab_member/working/book/contents/book/_build/jupyter_execute\n",
      "Executing: contents/book/_build/jupyter_execute/notebooks in: /home/philab_member/working/book/contents/book/_build/jupyter_execute\n",
      "Executing: contents/book/_build/jupyter_execute/【1】JupyterLabとROOTの使い方 in: /home/philab_member/working/book/contents/book/_build/jupyter_execute\n",
      "Executing: contents/book/notebooks in: /home/philab_member/working/book/contents/book                           \n",
      "Executing: contents/tutorial_data/ROOT/JupyterBook作成 in: /home/philab_member/working/book/contents/tutorial_data/ROOT\n",
      "Executing: contents/tutorial_data/ROOT/root_book/_build/jupyter_execute/notebooks in: /home/philab_member/working/book/contents/tutorial_data/ROOT/root_book/_build/jupyter_execute\n",
      "Executing: contents/tutorial_data/ROOT/root_book/_build/jupyter_execute/root_notebook in: /home/philab_member/working/book/contents/tutorial_data/ROOT/root_book/_build/jupyter_execute\n",
      "Executing: contents/tutorial_data/ROOT/root_book/notebooks in: /home/philab_member/working/book/contents/tutorial_data/ROOT/root_book\n",
      "Executing: contents/tutorial_data/ROOT/root_book/root_notebook in: /home/philab_member/working/book/contents/tutorial_data/ROOT/root_book\n",
      "Executing: contents/【1】JupyterLabとROOTの使い方 in: /home/philab_member/working/book/contentsm                       \n",
      "Executing: contents/短時間素数計算 in: /home/philab_member/working/book/contentsm                                      \n",
      "Executing: notebooks in: /home/philab_member/working/book[39;49;00m                                             \n",
      "\n",
      "\u001b[31mWARNING: Execution Failed with traceback saved in /home/philab_member/working/book/_build/html/reports/Contribution.log\u001b[39;49;00m\n",
      "\u001b[31mWARNING: Execution Failed with traceback saved in /home/philab_member/working/book/_build/html/reports/Contribution.log\u001b[39;49;00m\n",
      "\u001b[31mWARNING: Execution Failed with traceback saved in /home/philab_member/working/book/_build/html/reports/Untitled.log\u001b[39;49;00m\n",
      "\u001b[31mWARNING: Execution Failed with traceback saved in /home/philab_member/working/book/_build/html/reports/【1】JupyterLabとROOTの使い方.log\u001b[39;49;00m\n",
      "\u001b[31m/home/philab_member/working/book/contents/book/_build/jupyter_execute/【1】JupyterLabとROOTの使い方.ipynb:80010: WARNING: Unknown directive type \"bash\".\u001b[39;49;00m\n",
      "\u001b[31m/home/philab_member/working/book/contents/book/_build/jupyter_execute/【1】JupyterLabとROOTの使い方.ipynb:100007: WARNING: Unknown directive type \"bash\".\u001b[39;49;00m\n",
      "\u001b[31mWARNING: Execution Failed with traceback saved in /home/philab_member/working/book/_build/html/reports/JupyterBook作成.log\u001b[39;49;00m\n",
      "\u001b[91m/home/philab_member/working/book/contents/tutorial_data/ROOT/root_book/root_notebook.ipynb:10006: WARNING: duplicate label of equation euler, other instance in contents/tutorial_data/ROOT/root_book/_build/jupyter_execute/root_notebook\u001b[39;49;00m\n",
      "\u001b[31mWARNING: Execution Failed with traceback saved in /home/philab_member/working/book/_build/html/reports/【1】JupyterLabとROOTの使い方.log\u001b[39;49;00m\n",
      "\u001b[31m/home/philab_member/working/book/contents/【1】JupyterLabとROOTの使い方.ipynb:80010: WARNING: Unknown directive type \"bash\".\u001b[39;49;00m\n",
      "\u001b[31m/home/philab_member/working/book/contents/【1】JupyterLabとROOTの使い方.ipynb:100007: WARNING: Unknown directive type \"bash\".\u001b[39;49;00m\n",
      "\u001b[91m/home/philab_member/working/book/contents/tutorial_data/ROOT/root_book/markdown.md:94: WARNING: duplicate citation for key \"holdgraf_evidence_2014\"\u001b[39;49;00m\n",
      "\u001b[91m/home/philab_member/working/book/markdown.md:94: WARNING: duplicate citation for key \"holdgraf_evidence_2014\"\u001b[39;49;00m\n",
      "\u001b[01mlooking for now-outdated files... \u001b[39;49;00mnone found\n",
      "\u001b[01mpickling environment... \u001b[39;49;00mdone\n",
      "\u001b[01mchecking consistency... \u001b[39;49;00m\u001b[91m/home/philab_member/working/book/Contribution.ipynb: WARNING: document isn't included in any toctree\u001b[39;49;00m\n",
      "\u001b[91m/home/philab_member/working/book/contents/book/Contribution.ipynb: WARNING: document isn't included in any toctree\u001b[39;49;00m\n",
      "\u001b[91m/home/philab_member/working/book/contents/book/_build/jupyter_execute/Untitled.ipynb: WARNING: document isn't included in any toctree\u001b[39;49;00m\n",
      "\u001b[91m/home/philab_member/working/book/contents/book/_build/jupyter_execute/notebooks.ipynb: WARNING: document isn't included in any toctree\u001b[39;49;00m\n",
      "\u001b[91m/home/philab_member/working/book/contents/book/_build/jupyter_execute/【1】JupyterLabとROOTの使い方.ipynb: WARNING: document isn't included in any toctree\u001b[39;49;00m\n",
      "\u001b[91m/home/philab_member/working/book/contents/book/intro.md: WARNING: document isn't included in any toctree\u001b[39;49;00m\n",
      "\u001b[91m/home/philab_member/working/book/contents/book/markdown.md: WARNING: document isn't included in any toctree\u001b[39;49;00m\n",
      "\u001b[91m/home/philab_member/working/book/contents/book/notebooks.ipynb: WARNING: document isn't included in any toctree\u001b[39;49;00m\n",
      "\u001b[91m/home/philab_member/working/book/contents/tutorial_data/ROOT/JupyterBook作成.ipynb: WARNING: document isn't included in any toctree\u001b[39;49;00m\n",
      "\u001b[91m/home/philab_member/working/book/contents/tutorial_data/ROOT/root_book/_build/jupyter_execute/notebooks.ipynb: WARNING: document isn't included in any toctree\u001b[39;49;00m\n",
      "\u001b[91m/home/philab_member/working/book/contents/tutorial_data/ROOT/root_book/_build/jupyter_execute/root_notebook.ipynb: WARNING: document isn't included in any toctree\u001b[39;49;00m\n",
      "\u001b[91m/home/philab_member/working/book/contents/tutorial_data/ROOT/root_book/intro.md: WARNING: document isn't included in any toctree\u001b[39;49;00m\n",
      "\u001b[91m/home/philab_member/working/book/contents/tutorial_data/ROOT/root_book/markdown.md: WARNING: document isn't included in any toctree\u001b[39;49;00m\n",
      "\u001b[91m/home/philab_member/working/book/contents/tutorial_data/ROOT/root_book/notebooks.ipynb: WARNING: document isn't included in any toctree\u001b[39;49;00m\n",
      "\u001b[91m/home/philab_member/working/book/contents/tutorial_data/ROOT/root_book/root_notebook.ipynb: WARNING: document isn't included in any toctree\u001b[39;49;00m\n",
      "\u001b[91m/home/philab_member/working/book/contents/短時間素数計算.ipynb: WARNING: document isn't included in any toctree\u001b[39;49;00m\n",
      "\u001b[91m/home/philab_member/working/book/markdown.md: WARNING: document isn't included in any toctree\u001b[39;49;00m\n",
      "\u001b[91m/home/philab_member/working/book/notebooks.ipynb: WARNING: document isn't included in any toctree\u001b[39;49;00m\n",
      "done\n",
      "\u001b[01mpreparing documents... \u001b[39;49;00mdone\n",
      "\u001b[01mwriting output... \u001b[39;49;00m[100%] \u001b[32mnotebooks\u001b[39;49;00m                                              notebook\u001b[39;49;00m\n",
      "\u001b[01mgenerating indices... \u001b[39;49;00mgenindex done\n",
      "\u001b[01mwriting additional pages... \u001b[39;49;00msearch done\n",
      "\u001b[01mcopying images... \u001b[39;49;00m[100%] \u001b[33m_build/jupyter_execute/notebooks_2_0.png\u001b[39;49;00m               9;49;00m.png\u001b[39;49;00mooks_2_0.png\u001b[39;49;00m\n",
      "\u001b[01mcopying static files... \u001b[39;49;00mdone\n",
      "\u001b[01mcopying extra files... \u001b[39;49;00mdone\n",
      "\u001b[01mdumping search index in English (code: en)... \u001b[39;49;00mdone\n",
      "\u001b[01mdumping object inventory... \u001b[39;49;00mdone\n",
      "\u001b[01mbuild succeeded, 31 warnings.\u001b[39;49;00m\n",
      "\n",
      "The HTML pages are in _build/html.\n",
      "\n",
      "\u001b[92m===============================================================================\u001b[0m\n",
      "\n",
      "Finished generating HTML for book.\n",
      "Your book's HTML pages are here:\n",
      "    _build/html/\n",
      "You can look at your book by opening this file in a browser:\n",
      "    _build/html/index.html\n",
      "Or paste this line directly into your browser bar:\n",
      "    file:///home/philab_member/working/book/_build/html/index.html            \n",
      "\n",
      "\u001b[92m===============================================================================\u001b[0m\n",
      "\n"
     ]
    }
   ],
   "source": [
    "jb build ."
   ]
  },
  {
   "cell_type": "code",
   "execution_count": null,
   "id": "c4a5abf5-1277-4d43-8612-8be69e8e1709",
   "metadata": {},
   "outputs": [],
   "source": []
  }
 ],
 "metadata": {
  "kernelspec": {
   "display_name": "Bash",
   "language": "bash",
   "name": "bash"
  },
  "language_info": {
   "codemirror_mode": "shell",
   "file_extension": ".sh",
   "mimetype": "text/x-sh",
   "name": "bash"
  }
 },
 "nbformat": 4,
 "nbformat_minor": 5
}