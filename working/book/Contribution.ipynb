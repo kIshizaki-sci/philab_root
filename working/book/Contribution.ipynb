{
 "cells": [
  {
   "cell_type": "code",
   "execution_count": 1,
   "id": "f737d93c-a667-4c60-b4de-4bd4c6f6f8f0",
   "metadata": {},
   "outputs": [
    {
     "name": "stdout",
     "output_type": "stream",
     "text": [
      "/home/philab_member/working/book\n"
     ]
    }
   ],
   "source": [
    "pwd"
   ]
  },
  {
   "cell_type": "code",
   "execution_count": null,
   "id": "ed573c8d-63ed-458a-99b9-dd76243fab55",
   "metadata": {},
   "outputs": [],
   "source": []
  },
  {
   "cell_type": "code",
   "execution_count": 2,
   "id": "091b3109-5e2d-4b70-b0f2-257850c7a1e8",
   "metadata": {},
   "outputs": [
    {
     "name": "stdout",
     "output_type": "stream",
     "text": [
      "cp: ディレクトリ '../book' を自分自身 './contents/book' にコピーできません\n"
     ]
    },
    {
     "ename": "",
     "evalue": "1",
     "output_type": "error",
     "traceback": []
    }
   ],
   "source": [
    "cp -rd ../* ./contents"
   ]
  },
  {
   "cell_type": "code",
   "execution_count": 3,
   "id": "c64eab98-d01c-421d-8eab-c953313c9c40",
   "metadata": {},
   "outputs": [
    {
     "name": "stdout",
     "output_type": "stream",
     "text": [
      "合計 320\n",
      "drwxr-xr-x 1 philab_member philab_member   4096 10月  5 00:56 .\n",
      "drwxr-xr-x 1 philab_member philab_member   4096 10月  5 00:34 ..\n",
      "drwxr-xr-x 1 philab_member philab_member   4096 10月  4 23:58 .ipynb_checkpoints\n",
      "drwxr-xr-x 1 philab_member philab_member   4096 10月  5 00:56 book\n",
      "drwxr-xr-x 1 philab_member philab_member   4096 10月  5 00:56 images\n",
      "-rw-r--r-- 1 philab_member philab_member 279748 10月  5 00:56 prime_numbers.txt\n",
      "drwxr-xr-x 1 philab_member philab_member   4096 10月  5 00:56 tutorial_data\n",
      "-rw-r--r-- 1 philab_member philab_member  39249 10月  5 00:56 【1】JupyterLabとROOTの使い方.ipynb\n",
      "-rw-r--r-- 1 philab_member philab_member   2141 10月  5 00:56 短時間素数計算.ipynb\n"
     ]
    }
   ],
   "source": [
    "ls -la contents"
   ]
  },
  {
   "cell_type": "code",
   "execution_count": 4,
   "id": "611d3d75-dddf-40d6-bd1d-aced580e517d",
   "metadata": {},
   "outputs": [
    {
     "name": "stdout",
     "output_type": "stream",
     "text": [
      "\u001b[32m\u001b[1mRunning Jupyter-Book v0.11.3\u001b[0m\n",
      "\u001b[34m\u001b[1mSource Folder: \u001b[0m/home/philab_member/working/book\n",
      "\u001b[34m\u001b[1mConfig Path: \u001b[0m/home/philab_member/working/book/_config.yml\n",
      "\u001b[34m\u001b[1mOutput Path: \u001b[0m/home/philab_member/working/book/_build/html\n",
      "\u001b[01mRunning Sphinx v3.5.4\u001b[39;49;00m\n",
      "[etoc] Changing master_doc to 'intro'\n",
      "\u001b[01mloading pickled environment... \u001b[39;49;00mchecking for /home/philab_member/working/book/references.bib in bibtex cache... up to date\n",
      "done\n",
      "\u001b[01mmyst v0.13.7:\u001b[39;49;00m MdParserConfig(renderer='sphinx', commonmark_only=False, dmath_allow_labels=True, dmath_allow_space=True, dmath_allow_digits=True, update_mathjax=True, enable_extensions=['colon_fence', 'dollarmath', 'linkify', 'substitution'], disable_syntax=[], url_schemes=['mailto', 'http', 'https'], heading_anchors=None, html_meta=[], footnote_transition=True, substitutions=[], sub_delimiters=['{', '}'])\n",
      "\u001b[01mbuilding [mo]: \u001b[39;49;00mtargets for 0 po files that are out of date\n",
      "\u001b[01mbuilding [html]: \u001b[39;49;00mtargets for 17 source files that are out of date\n",
      "\u001b[01mupdating environment: \u001b[39;49;00m13 added, 17 changed, 0 removed\n",
      "\u001b[01mreading sources... \u001b[39;49;00m[100%] \u001b[35mcontents/短時間素数計算\u001b[39;49;00m                                      _notebook\u001b[39;49;00mook\u001b[39;49;00moot_notebook\u001b[39;49;00m\n",
      "\u001b[31m/home/philab_member/working/book/contents/book/_build/jupyter_execute/contents/book/_build/jupyter_execute/【1】JupyterLabとROOTの使い方.ipynb:80010: WARNING: Unknown directive type \"bash\".\u001b[39;49;00m\n",
      "\u001b[31m/home/philab_member/working/book/contents/book/_build/jupyter_execute/contents/book/_build/jupyter_execute/【1】JupyterLabとROOTの使い方.ipynb:100007: WARNING: Unknown directive type \"bash\".\u001b[39;49;00m\n",
      "\u001b[91m/home/philab_member/working/book/contents/book/_build/jupyter_execute/contents/tutorial_data/ROOT/root_book/_build/jupyter_execute/root_notebook.ipynb:10006: WARNING: duplicate label of equation euler, other instance in contents/tutorial_data/ROOT/root_book/root_notebook\u001b[39;49;00m\n",
      "\u001b[91m/home/philab_member/working/book/contents/book/_build/jupyter_execute/contents/tutorial_data/ROOT/root_book/_build/jupyter_execute/root_notebook.ipynb:20002: WARNING: duplicate label of equation my_other_label, other instance in contents/tutorial_data/ROOT/root_book/_build/jupyter_execute/root_notebook\u001b[39;49;00m\n",
      "\u001b[91m/home/philab_member/working/book/contents/book/_build/jupyter_execute/contents/tutorial_data/ROOT/root_book/root_notebook.ipynb:10006: WARNING: duplicate label of equation euler, other instance in contents/book/_build/jupyter_execute/contents/tutorial_data/ROOT/root_book/_build/jupyter_execute/root_notebook\u001b[39;49;00m\n",
      "\u001b[31m/home/philab_member/working/book/contents/book/_build/jupyter_execute/contents/【1】JupyterLabとROOTの使い方.ipynb:80010: WARNING: Unknown directive type \"bash\".\u001b[39;49;00m\n",
      "\u001b[31m/home/philab_member/working/book/contents/book/_build/jupyter_execute/contents/【1】JupyterLabとROOTの使い方.ipynb:100007: WARNING: Unknown directive type \"bash\".\u001b[39;49;00m\n",
      "\u001b[31m/home/philab_member/working/book/contents/book/_build/jupyter_execute/【1】JupyterLabとROOTの使い方.ipynb:80010: WARNING: Unknown directive type \"bash\".\u001b[39;49;00m\n",
      "\u001b[31m/home/philab_member/working/book/contents/book/_build/jupyter_execute/【1】JupyterLabとROOTの使い方.ipynb:100007: WARNING: Unknown directive type \"bash\".\u001b[39;49;00m\n",
      "\u001b[91m/home/philab_member/working/book/contents/tutorial_data/ROOT/root_book/_build/jupyter_execute/root_notebook.ipynb:10006: WARNING: duplicate label of equation euler, other instance in contents/book/_build/jupyter_execute/contents/tutorial_data/ROOT/root_book/root_notebook\u001b[39;49;00m\n",
      "\u001b[91m/home/philab_member/working/book/contents/tutorial_data/ROOT/root_book/_build/jupyter_execute/root_notebook.ipynb:20002: WARNING: duplicate label of equation my_other_label, other instance in contents/book/_build/jupyter_execute/contents/tutorial_data/ROOT/root_book/_build/jupyter_execute/root_notebook\u001b[39;49;00m\n",
      "\u001b[91m/home/philab_member/working/book/contents/tutorial_data/ROOT/root_book/root_notebook.ipynb:10006: WARNING: duplicate label of equation euler, other instance in contents/tutorial_data/ROOT/root_book/_build/jupyter_execute/root_notebook\u001b[39;49;00m\n",
      "\u001b[31m/home/philab_member/working/book/contents/【1】JupyterLabとROOTの使い方.ipynb:80010: WARNING: Unknown directive type \"bash\".\u001b[39;49;00m\n",
      "\u001b[31m/home/philab_member/working/book/contents/【1】JupyterLabとROOTの使い方.ipynb:100007: WARNING: Unknown directive type \"bash\".\u001b[39;49;00m\n",
      "\u001b[91m/home/philab_member/working/book/contents/book/markdown.md:94: WARNING: duplicate citation for key \"holdgraf_evidence_2014\"\u001b[39;49;00m\n",
      "\u001b[91m/home/philab_member/working/book/contents/tutorial_data/ROOT/root_book/markdown.md:94: WARNING: duplicate citation for key \"holdgraf_evidence_2014\"\u001b[39;49;00m\n",
      "\u001b[01mlooking for now-outdated files... \u001b[39;49;00mnone found\n",
      "\u001b[01mpickling environment... \u001b[39;49;00mdone\n",
      "\u001b[01mchecking consistency... \u001b[39;49;00m\u001b[91m/home/philab_member/working/book/Contribution.ipynb: WARNING: document isn't included in any toctree\u001b[39;49;00m\n",
      "\u001b[91m/home/philab_member/working/book/contents/book/Contribution.ipynb: WARNING: document isn't included in any toctree\u001b[39;49;00m\n",
      "\u001b[91m/home/philab_member/working/book/contents/book/_build/jupyter_execute/Contribution.ipynb: WARNING: document isn't included in any toctree\u001b[39;49;00m\n",
      "\u001b[91m/home/philab_member/working/book/contents/book/_build/jupyter_execute/Untitled.ipynb: WARNING: document isn't included in any toctree\u001b[39;49;00m\n",
      "\u001b[91m/home/philab_member/working/book/contents/book/_build/jupyter_execute/contents/book/Contribution.ipynb: WARNING: document isn't included in any toctree\u001b[39;49;00m\n",
      "\u001b[91m/home/philab_member/working/book/contents/book/_build/jupyter_execute/contents/book/_build/jupyter_execute/Untitled.ipynb: WARNING: document isn't included in any toctree\u001b[39;49;00m\n",
      "\u001b[91m/home/philab_member/working/book/contents/book/_build/jupyter_execute/contents/book/_build/jupyter_execute/notebooks.ipynb: WARNING: document isn't included in any toctree\u001b[39;49;00m\n",
      "\u001b[91m/home/philab_member/working/book/contents/book/_build/jupyter_execute/contents/book/_build/jupyter_execute/【1】JupyterLabとROOTの使い方.ipynb: WARNING: document isn't included in any toctree\u001b[39;49;00m\n",
      "\u001b[91m/home/philab_member/working/book/contents/book/_build/jupyter_execute/contents/book/notebooks.ipynb: WARNING: document isn't included in any toctree\u001b[39;49;00m\n",
      "\u001b[91m/home/philab_member/working/book/contents/book/_build/jupyter_execute/contents/tutorial_data/ROOT/JupyterBook作成.ipynb: WARNING: document isn't included in any toctree\u001b[39;49;00m\n",
      "\u001b[91m/home/philab_member/working/book/contents/book/_build/jupyter_execute/contents/tutorial_data/ROOT/root_book/_build/jupyter_execute/notebooks.ipynb: WARNING: document isn't included in any toctree\u001b[39;49;00m\n",
      "\u001b[91m/home/philab_member/working/book/contents/book/_build/jupyter_execute/contents/tutorial_data/ROOT/root_book/_build/jupyter_execute/root_notebook.ipynb: WARNING: document isn't included in any toctree\u001b[39;49;00m\n",
      "\u001b[91m/home/philab_member/working/book/contents/book/_build/jupyter_execute/contents/tutorial_data/ROOT/root_book/notebooks.ipynb: WARNING: document isn't included in any toctree\u001b[39;49;00m\n",
      "\u001b[91m/home/philab_member/working/book/contents/book/_build/jupyter_execute/contents/tutorial_data/ROOT/root_book/root_notebook.ipynb: WARNING: document isn't included in any toctree\u001b[39;49;00m\n",
      "\u001b[91m/home/philab_member/working/book/contents/book/_build/jupyter_execute/contents/【1】JupyterLabとROOTの使い方.ipynb: WARNING: document isn't included in any toctree\u001b[39;49;00m\n",
      "\u001b[91m/home/philab_member/working/book/contents/book/_build/jupyter_execute/contents/短時間素数計算.ipynb: WARNING: document isn't included in any toctree\u001b[39;49;00m\n",
      "\u001b[91m/home/philab_member/working/book/contents/book/_build/jupyter_execute/notebooks.ipynb: WARNING: document isn't included in any toctree\u001b[39;49;00m\n",
      "\u001b[91m/home/philab_member/working/book/contents/book/_build/jupyter_execute/【1】JupyterLabとROOTの使い方.ipynb: WARNING: document isn't included in any toctree\u001b[39;49;00m\n",
      "\u001b[91m/home/philab_member/working/book/contents/book/intro.md: WARNING: document isn't included in any toctree\u001b[39;49;00m\n",
      "\u001b[91m/home/philab_member/working/book/contents/book/markdown.md: WARNING: document isn't included in any toctree\u001b[39;49;00m\n",
      "\u001b[91m/home/philab_member/working/book/contents/book/notebooks.ipynb: WARNING: document isn't included in any toctree\u001b[39;49;00m\n",
      "\u001b[91m/home/philab_member/working/book/contents/tutorial_data/ROOT/JupyterBook作成.ipynb: WARNING: document isn't included in any toctree\u001b[39;49;00m\n",
      "\u001b[91m/home/philab_member/working/book/contents/tutorial_data/ROOT/root_book/_build/jupyter_execute/notebooks.ipynb: WARNING: document isn't included in any toctree\u001b[39;49;00m\n",
      "\u001b[91m/home/philab_member/working/book/contents/tutorial_data/ROOT/root_book/_build/jupyter_execute/root_notebook.ipynb: WARNING: document isn't included in any toctree\u001b[39;49;00m\n",
      "\u001b[91m/home/philab_member/working/book/contents/tutorial_data/ROOT/root_book/intro.md: WARNING: document isn't included in any toctree\u001b[39;49;00m\n",
      "\u001b[91m/home/philab_member/working/book/contents/tutorial_data/ROOT/root_book/markdown.md: WARNING: document isn't included in any toctree\u001b[39;49;00m\n",
      "\u001b[91m/home/philab_member/working/book/contents/tutorial_data/ROOT/root_book/notebooks.ipynb: WARNING: document isn't included in any toctree\u001b[39;49;00m\n",
      "\u001b[91m/home/philab_member/working/book/contents/tutorial_data/ROOT/root_book/root_notebook.ipynb: WARNING: document isn't included in any toctree\u001b[39;49;00m\n",
      "\u001b[91m/home/philab_member/working/book/contents/短時間素数計算.ipynb: WARNING: document isn't included in any toctree\u001b[39;49;00m\n",
      "\u001b[91m/home/philab_member/working/book/markdown.md: WARNING: document isn't included in any toctree\u001b[39;49;00m\n",
      "\u001b[91m/home/philab_member/working/book/notebooks.ipynb: WARNING: document isn't included in any toctree\u001b[39;49;00m\n",
      "done\n",
      "\u001b[01mpreparing documents... \u001b[39;49;00mdone\n",
      "\u001b[01mwriting output... \u001b[39;49;00m[100%] \u001b[32mintro\u001b[39;49;00m                                                  notebook\u001b[39;49;00mook\u001b[39;49;00moot_notebook\u001b[39;49;00m\n",
      "\u001b[01mgenerating indices... \u001b[39;49;00mgenindex done\n",
      "\u001b[01mwriting additional pages... \u001b[39;49;00msearch done\n",
      "\u001b[01mcopying images... \u001b[39;49;00m[100%] \u001b[33m_build/jupyter_execute/contents/【1】JupyterLabとROOTの使い方_28_0.png\u001b[39;49;00m.png\u001b[39;49;00mooks_2_0.png\u001b[39;49;00mpng\u001b[39;49;00mooks_2_0.png\u001b[39;49;00m\n",
      "\u001b[01mcopying static files... \u001b[39;49;00mdone\n",
      "\u001b[01mcopying extra files... \u001b[39;49;00mdone\n",
      "\u001b[01mdumping search index in English (code: en)... \u001b[39;49;00mdone\n",
      "\u001b[01mdumping object inventory... \u001b[39;49;00mdone\n",
      "\u001b[01mbuild succeeded, 47 warnings.\u001b[39;49;00m\n",
      "\n",
      "The HTML pages are in _build/html.\n",
      "\n",
      "\u001b[92m===============================================================================\u001b[0m\n",
      "\n",
      "Finished generating HTML for book.\n",
      "Your book's HTML pages are here:\n",
      "    _build/html/\n",
      "You can look at your book by opening this file in a browser:\n",
      "    _build/html/index.html\n",
      "Or paste this line directly into your browser bar:\n",
      "    file:///home/philab_member/working/book/_build/html/index.html            \n",
      "\n",
      "\u001b[92m===============================================================================\u001b[0m\n",
      "\n"
     ]
    }
   ],
   "source": [
    "jb build ."
   ]
  },
  {
   "cell_type": "code",
   "execution_count": 5,
   "id": "c4a5abf5-1277-4d43-8612-8be69e8e1709",
   "metadata": {},
   "outputs": [],
   "source": [
    "rm -rd ~/html/*\n",
    "cp -rd ./_build/html/* ~/html"
   ]
  },
  {
   "cell_type": "code",
   "execution_count": 6,
   "id": "a23841f3-12a1-45be-92e4-3c2d4786aa9c",
   "metadata": {},
   "outputs": [],
   "source": [
    "rm -rd contents/*"
   ]
  },
  {
   "cell_type": "code",
   "execution_count": null,
   "id": "253dda15-834a-4570-a23c-3ff4100e9999",
   "metadata": {},
   "outputs": [],
   "source": []
  }
 ],
 "metadata": {
  "kernelspec": {
   "display_name": "Bash",
   "language": "bash",
   "name": "bash"
  },
  "language_info": {
   "codemirror_mode": "shell",
   "file_extension": ".sh",
   "mimetype": "text/x-sh",
   "name": "bash"
  }
 },
 "nbformat": 4,
 "nbformat_minor": 5
}
