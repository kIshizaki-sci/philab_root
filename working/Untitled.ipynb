{
 "cells": [
  {
   "cell_type": "code",
   "execution_count": 1,
   "id": "f7b9761d-cc41-4c16-adca-9677a19fb803",
   "metadata": {},
   "outputs": [
    {
     "name": "stdout",
     "output_type": "stream",
     "text": [
      "Welcome to JupyROOT 6.24/06\n"
     ]
    }
   ],
   "source": [
    "import ROOT"
   ]
  },
  {
   "cell_type": "markdown",
   "id": "8a6268d6-4ef2-4b28-ae28-28cabb8a78ad",
   "metadata": {},
   "source": [
    "$$\n",
    "e^{i\\pi} + 1 = 0\n",
    "$$"
   ]
  },
  {
   "cell_type": "markdown",
   "id": "be9f493d-5372-426a-926b-f0278c63611e",
   "metadata": {},
   "source": [
    "$$\n",
    "e = mc^2\n",
    "$$ (eqn:best)"
   ]
  },
  {
   "cell_type": "code",
   "execution_count": null,
   "id": "af322302-c653-4542-a5a3-6e433d42ac94",
   "metadata": {},
   "outputs": [],
   "source": []
  }
 ],
 "metadata": {
  "kernelspec": {
   "display_name": "Python 3 (ipykernel)",
   "language": "python",
   "name": "python3"
  },
  "language_info": {
   "codemirror_mode": {
    "name": "ipython",
    "version": 3
   },
   "file_extension": ".py",
   "mimetype": "text/x-python",
   "name": "python",
   "nbconvert_exporter": "python",
   "pygments_lexer": "ipython3",
   "version": "3.9.5"
  }
 },
 "nbformat": 4,
 "nbformat_minor": 5
}
