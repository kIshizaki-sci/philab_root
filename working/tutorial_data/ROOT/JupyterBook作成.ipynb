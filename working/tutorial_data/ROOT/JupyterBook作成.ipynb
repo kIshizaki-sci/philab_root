{
 "cells": [
  {
   "cell_type": "markdown",
   "id": "190be81a-ee50-4e59-9013-94010331dc8e",
   "metadata": {},
   "source": [
    "# Jupyter Bookの使い方\n",
    "\n",
    "[公式サイト](https://jupyterbook.org/intro.html)"
   ]
  },
  {
   "cell_type": "code",
   "execution_count": 1,
   "id": "c1517d2b-6650-4584-b5d8-9054676588ed",
   "metadata": {},
   "outputs": [
    {
     "name": "stdout",
     "output_type": "stream",
     "text": [
      "/home/ishizaki/workspace/ROOT\n"
     ]
    }
   ],
   "source": [
    "pwd"
   ]
  },
  {
   "cell_type": "code",
   "execution_count": 2,
   "id": "e6f281df-98a9-41a0-a838-9a5f7d8b6e46",
   "metadata": {},
   "outputs": [
    {
     "name": "stdout",
     "output_type": "stream",
     "text": [
      "\n",
      "\u001b[92m===============================================================================\u001b[0m\n",
      "\n",
      "Your book template can be found at\n",
      "\n",
      "    root_book/\n",
      "\n",
      "\u001b[92m===============================================================================\u001b[0m\n",
      "\n"
     ]
    }
   ],
   "source": [
    "jupyter-book create root_book"
   ]
  },
  {
   "cell_type": "code",
   "execution_count": 3,
   "id": "19721fad-9f1d-42a9-98bd-e077e337c895",
   "metadata": {},
   "outputs": [
    {
     "name": "stdout",
     "output_type": "stream",
     "text": [
      "Untitled.ipynb  root_book\n"
     ]
    }
   ],
   "source": [
    "ls"
   ]
  },
  {
   "cell_type": "code",
   "execution_count": 14,
   "id": "edeee242-83e6-4983-896a-690b2811a147",
   "metadata": {},
   "outputs": [
    {
     "name": "stdout",
     "output_type": "stream",
     "text": [
      "\u001b[32m\u001b[1mRunning Jupyter-Book v0.11.3\u001b[0m\n",
      "\u001b[34m\u001b[1mSource Folder: \u001b[0m/home/ishizaki/workspace/ROOT/root_book\n",
      "\u001b[34m\u001b[1mConfig Path: \u001b[0m/home/ishizaki/workspace/ROOT/root_book/_config.yml\n",
      "\u001b[34m\u001b[1mOutput Path: \u001b[0m/home/ishizaki/workspace/ROOT/root_book/_build/html\n",
      "\u001b[01mRunning Sphinx v3.5.4\u001b[39;49;00m\n",
      "[etoc] Changing master_doc to 'intro'\n",
      "\u001b[01mloading pickled environment... \u001b[39;49;00mchecking for /home/ishizaki/workspace/ROOT/root_book/references.bib in bibtex cache... up to date\n",
      "done\n",
      "\u001b[01mmyst v0.13.7:\u001b[39;49;00m MdParserConfig(renderer='sphinx', commonmark_only=False, dmath_allow_labels=True, dmath_allow_space=True, dmath_allow_digits=True, update_mathjax=True, enable_extensions=['amsmath'], disable_syntax=[], url_schemes=['mailto', 'http', 'https'], heading_anchors=None, html_meta=[], footnote_transition=True, substitutions=[], sub_delimiters=['{', '}'])\n",
      "\u001b[01mbuilding [mo]: \u001b[39;49;00mtargets for 0 po files that are out of date\n",
      "\u001b[01mbuilding [html]: \u001b[39;49;00mtargets for 1 source files that are out of date\n",
      "\u001b[01mupdating environment: \u001b[39;49;00m0 added, 1 changed, 0 removed\n",
      "Executing: root_notebook in: /home/ishizaki/workspace/ROOT/root_book00m                                         \n",
      "\n",
      "\u001b[01mlooking for now-outdated files... \u001b[39;49;00mnone found\n",
      "\u001b[01mpickling environment... \u001b[39;49;00mdone\n",
      "\u001b[01mchecking consistency... \u001b[39;49;00mdone\n",
      "\u001b[01mpreparing documents... \u001b[39;49;00mdone\n",
      "\u001b[01mwriting output... \u001b[39;49;00m[100%] \u001b[32mroot_notebook\u001b[39;49;00m                                          \n",
      "\u001b[91m/home/ishizaki/workspace/ROOT/root_book/root_notebook.ipynb:30002: WARNING: equation not found: my_other_label\u001b[39;49;00m\n",
      "\u001b[01mgenerating indices... \u001b[39;49;00mgenindex done\n",
      "\u001b[01mwriting additional pages... \u001b[39;49;00msearch done\n",
      "\u001b[01mcopying static files... \u001b[39;49;00mdone\n",
      "\u001b[01mcopying extra files... \u001b[39;49;00mdone\n",
      "\u001b[01mdumping search index in English (code: en)... \u001b[39;49;00mdone\n",
      "\u001b[01mdumping object inventory... \u001b[39;49;00mdone\n",
      "\u001b[01mbuild succeeded, 1 warning.\u001b[39;49;00m\n",
      "\n",
      "The HTML pages are in root_book/_build/html.\n",
      "\n",
      "\u001b[92m===============================================================================\u001b[0m\n",
      "\n",
      "Finished generating HTML for book.\n",
      "Your book's HTML pages are here:\n",
      "    root_book/_build/html/\n",
      "You can look at your book by opening this file in a browser:\n",
      "    root_book/_build/html/index.html\n",
      "Or paste this line directly into your browser bar:\n",
      "    file:///home/ishizaki/workspace/ROOT/root_book/_build/html/index.html            \n",
      "\n",
      "\u001b[92m===============================================================================\u001b[0m\n",
      "\n"
     ]
    }
   ],
   "source": [
    "jupyter-book build root_book/"
   ]
  },
  {
   "cell_type": "code",
   "execution_count": null,
   "id": "74aa5cff-9c39-4c90-aa4b-f4c179423c6c",
   "metadata": {},
   "outputs": [],
   "source": []
  }
 ],
 "metadata": {
  "kernelspec": {
   "display_name": "Bash",
   "language": "bash",
   "name": "bash"
  },
  "language_info": {
   "codemirror_mode": "shell",
   "file_extension": ".sh",
   "mimetype": "text/x-sh",
   "name": "bash"
  }
 },
 "nbformat": 4,
 "nbformat_minor": 5
}
