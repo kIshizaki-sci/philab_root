{
 "cells": [
  {
   "cell_type": "code",
   "execution_count": null,
   "id": "bound-affect",
   "metadata": {},
   "outputs": [],
   "source": [
    "fn first_word(s: &String) -> usize {\n",
    "    let bytes = s.as_bytes();\n",
    "\n",
    "    for (i, &item) in bytes.iter().enumerate() {\n",
    "        if item == b' ' {\n",
    "            return i;\n",
    "        }\n",
    "    }\n",
    "\n",
    "    s.len()\n",
    "}"
   ]
  },
  {
   "cell_type": "code",
   "execution_count": null,
   "id": "clear-cycle",
   "metadata": {},
   "outputs": [],
   "source": [
    "let s = String::from(\"He want much money!\");"
   ]
  },
  {
   "cell_type": "code",
   "execution_count": null,
   "id": "statewide-syndicate",
   "metadata": {},
   "outputs": [],
   "source": [
    "first_word(&s)"
   ]
  },
  {
   "cell_type": "code",
   "execution_count": null,
   "id": "drawn-dealing",
   "metadata": {},
   "outputs": [],
   "source": [
    "fn first_word2(s: &String) -> usize {\n",
    "    let bytes = s.as_bytes();\n",
    "\n",
    "    for (i, item_ref) in bytes.iter().enumerate() {\n",
    "        if *item_ref == b' ' {\n",
    "            return i;\n",
    "        }\n",
    "    }\n",
    "\n",
    "    s.len()\n",
    "}"
   ]
  },
  {
   "cell_type": "code",
   "execution_count": null,
   "id": "adaptive-george",
   "metadata": {},
   "outputs": [],
   "source": [
    "first_word2(&s)"
   ]
  },
  {
   "cell_type": "code",
   "execution_count": null,
   "id": "oriented-envelope",
   "metadata": {},
   "outputs": [],
   "source": [
    "fn fibo( n : i128 ) -> i128 {\n",
    "    if n == 0 {\n",
    "        1\n",
    "    } else if n==1 {\n",
    "        1\n",
    "    } else {\n",
    "        fibo(n-1)+fibo(n-2) \n",
    "    }\n",
    "}"
   ]
  },
  {
   "cell_type": "code",
   "execution_count": null,
   "id": "prerequisite-christmas",
   "metadata": {},
   "outputs": [],
   "source": [
    "%%timeit\n",
    "fibo( 12 )"
   ]
  },
  {
   "cell_type": "code",
   "execution_count": null,
   "id": "hindu-retailer",
   "metadata": {},
   "outputs": [],
   "source": [
    "fn gcd( mn : (i32, i32) ) -> i32{\n",
    "    if mn.1==0{\n",
    "        return mn.0;\n",
    "    } else {\n",
    "        return gcd( (mn.1, mn.0%mn.1));\n",
    "    }\n",
    "}"
   ]
  },
  {
   "cell_type": "code",
   "execution_count": null,
   "id": "standing-happening",
   "metadata": {},
   "outputs": [],
   "source": [
    "gcd( (51, 7) )"
   ]
  },
  {
   "cell_type": "code",
   "execution_count": null,
   "id": "sublime-external",
   "metadata": {},
   "outputs": [],
   "source": [
    "let a = vec![vec![1,2,3], vec![4,5,6], vec![7,8,9] ];\n",
    "//let a = vec![1,2,3];\n",
    "for (x_int, x) in a.iter().enumerate() {\n",
    "    for (y_int, &y) in x.iter().enumerate() {\n",
    "        println!(\"a[{}][{}] = {}\",x_int, y_int, y);\n",
    "    }\n",
    "}"
   ]
  },
  {
   "cell_type": "code",
   "execution_count": null,
   "id": "oriented-aruba",
   "metadata": {},
   "outputs": [],
   "source": [
    "fn print_2d_mut_vector(v : &mut Vec<Vec<i32>> ) {\n",
    "    for (x_int, x) in v.iter().enumerate() {\n",
    "        for (y_int, &y) in x.iter().enumerate() {\n",
    "            println!(\"v[{}][{}] = {}\",x_int, y_int, y);\n",
    "        }\n",
    "    }\n",
    "}\n",
    "\n",
    "fn print_2d_vector(v : & Vec<Vec<i32>> ) {\n",
    "    for (x_int, x) in v.iter().enumerate() {\n",
    "        for (y_int, &y) in x.iter().enumerate() {\n",
    "            println!(\"v[{}][{}] = {}\",x_int, y_int, y);\n",
    "        }\n",
    "    }\n",
    "}"
   ]
  },
  {
   "cell_type": "code",
   "execution_count": null,
   "id": "south-canada",
   "metadata": {},
   "outputs": [],
   "source": [
    "let mut a = vec![vec![1,2,3], vec![4,5,6], vec![7,8,9] ];\n",
    "print_2d_mut_vector(&mut a);\n",
    "println!(\"{}\", a[0][0]);"
   ]
  },
  {
   "cell_type": "code",
   "execution_count": null,
   "id": "minus-grade",
   "metadata": {},
   "outputs": [],
   "source": [
    "let a = vec![vec![1,2,3], vec![4,5,6], vec![7,8,9] ];\n",
    "print_2d_vector(& a);\n",
    "println!(\"{}\", a[0][0]);"
   ]
  },
  {
   "cell_type": "markdown",
   "id": "blond-methodology",
   "metadata": {},
   "source": [
    "## 部分和問題\n",
    "\n",
    "N個の整数と正の整数Wが与えられているとき，$a_0,...,a_{N-1}$から何個か選んで総和をWに出来るか？"
   ]
  },
  {
   "cell_type": "markdown",
   "id": "superb-memorial",
   "metadata": {},
   "source": [
    "### 解法\n",
    "まず$a_{N-1}$について2通りの分岐がある．\n",
    "\n",
    "1. 「$a_0,...a_{N-2}$の中から$W$を作ることが出来るか？」という問題に帰着させる．\n",
    "1. 「$a_0,...a_{N-2}$の中から$W-a_{N-1}$を作ることが出来るか？」という問題に帰着させる．\n",
    "\n",
    "これを再帰関数を用いて実装してみよう．"
   ]
  },
  {
   "cell_type": "code",
   "execution_count": 224,
   "id": "recovered-isolation",
   "metadata": {},
   "outputs": [],
   "source": []
  },
  {
   "cell_type": "code",
   "execution_count": 288,
   "id": "fewer-charge",
   "metadata": {},
   "outputs": [],
   "source": []
  },
  {
   "cell_type": "code",
   "execution_count": 313,
   "id": "essential-feeding",
   "metadata": {},
   "outputs": [],
   "source": [
    "fn judge( z : (&Vec<i32>, i32) )->bool{\n",
    "    let max_length = z.0.len();\n",
    "    \n",
    "    fn rec_judge( x : (usize, i32, &Vec<i32>) )->bool{\n",
    "        // length, W, vector\n",
    "        if x.1 == 0 {\n",
    "            return true;\n",
    "        } else if x.0 as i32 == 0 || x.1 < 0 {\n",
    "            return false;\n",
    "        }\n",
    "\n",
    "        let alpha = x.1 - x.2[(x.0-1) as usize];\n",
    "        rec_judge( (x.0-1, x.1, x.2) ) || rec_judge( (x.0-1, alpha, x.2) )\n",
    "    }\n",
    "    rec_judge( (max_length, z.1, z.0) )\n",
    "}"
   ]
  },
  {
   "cell_type": "code",
   "execution_count": 323,
   "id": "positive-jonathan",
   "metadata": {},
   "outputs": [],
   "source": [
    "fn judge( (vec, w) : (&Vec<i32>, i32) )->bool{\n",
    "    let max_length = vec.len();\n",
    "    \n",
    "    fn rec_judge( (length, w_minus_a, _vec) : (usize, i32, &Vec<i32>) )->bool{\n",
    "        // length, W, vector\n",
    "        if w_minus_a == 0 {\n",
    "            return true;\n",
    "        } else if length as i32 == 0 || w_minus_a < 0 {\n",
    "            return false;\n",
    "        }\n",
    "\n",
    "        let alpha = w_minus_a - _vec[(length-1) as usize];\n",
    "        rec_judge( (length-1, w_minus_a, _vec) ) || rec_judge( (length-1, alpha, _vec) )\n",
    "    }\n",
    "    rec_judge( (max_length, w, vec) )\n",
    "}"
   ]
  },
  {
   "cell_type": "code",
   "execution_count": 324,
   "id": "alleged-coral",
   "metadata": {},
   "outputs": [
    {
     "name": "stdout",
     "output_type": "stream",
     "text": [
      "true\n"
     ]
    }
   ],
   "source": [
    "let a : Vec<i32> = vec![22, 43, 12, 3, 6, 76, 19, 83, 34, 95, 126, 64, 78, 9];\n",
    "println!( \"{}\", judge((&a, 22+43+34+9 )) );"
   ]
  },
  {
   "cell_type": "code",
   "execution_count": 235,
   "id": "complex-orientation",
   "metadata": {},
   "outputs": [
    {
     "name": "stdout",
     "output_type": "stream",
     "text": [
      "43\n"
     ]
    }
   ],
   "source": []
  },
  {
   "cell_type": "code",
   "execution_count": 179,
   "id": "lined-lancaster",
   "metadata": {},
   "outputs": [
    {
     "data": {
      "text/plain": [
       "10"
      ]
     },
     "execution_count": 179,
     "metadata": {},
     "output_type": "execute_result"
    }
   ],
   "source": []
  },
  {
   "cell_type": "code",
   "execution_count": 92,
   "id": "clinical-annex",
   "metadata": {},
   "outputs": [
    {
     "name": "stdout",
     "output_type": "stream",
     "text": [
      "false\n",
      "false\n"
     ]
    }
   ],
   "source": []
  },
  {
   "cell_type": "code",
   "execution_count": null,
   "id": "looking-season",
   "metadata": {},
   "outputs": [],
   "source": []
  },
  {
   "cell_type": "code",
   "execution_count": 120,
   "id": "southeast-clarity",
   "metadata": {},
   "outputs": [
    {
     "data": {
      "text/plain": [
       "4"
      ]
     },
     "execution_count": 120,
     "metadata": {},
     "output_type": "execute_result"
    }
   ],
   "source": []
  },
  {
   "cell_type": "code",
   "execution_count": null,
   "id": "pressed-matthew",
   "metadata": {},
   "outputs": [],
   "source": []
  }
 ],
 "metadata": {
  "kernelspec": {
   "display_name": "Rust",
   "language": "rust",
   "name": "rust"
  },
  "language_info": {
   "codemirror_mode": "rust",
   "file_extension": ".rs",
   "mimetype": "text/rust",
   "name": "Rust",
   "pygment_lexer": "rust",
   "version": ""
  }
 },
 "nbformat": 4,
 "nbformat_minor": 5
}
