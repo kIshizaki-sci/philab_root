{
 "cells": [
  {
   "cell_type": "markdown",
   "id": "cb16f650-7c3e-4b9c-92ce-6312db02121c",
   "metadata": {},
   "source": [
    "# JupyterLab 上でのRust REPL\n",
    "\n",
    "RustのREPL(Read-Eval-Print Loop)をJupyterLabで動かす．  \n",
    "Googleの社員が開発しているが，Googleの公式プロジェクトではない．  \n",
    "https://github.com/google/evcxr\n",
    "\n",
    "ついでにRustの文法について簡単にまとめる．"
   ]
  },
  {
   "cell_type": "markdown",
   "id": "ed923962-944c-4da7-b65c-fae9cb5a005a",
   "metadata": {},
   "source": [
    "## 参考文献  \n",
    "https://github.com/google/evcxr/blob/main/evcxr_jupyter/samples/evcxr_jupyter_tour.ipynb  \n",
    "https://www.rust-lang.org/ja/learn"
   ]
  },
  {
   "cell_type": "code",
   "execution_count": 3,
   "id": "61f69dfe-bc49-43c5-8383-740a05a66f12",
   "metadata": {},
   "outputs": [],
   "source": [
    "let a_array : [i32;12]= [1;12];"
   ]
  },
  {
   "cell_type": "code",
   "execution_count": 4,
   "id": "76dbfa96-3ae6-409e-a68d-feed362de3b4",
   "metadata": {},
   "outputs": [
    {
     "data": {
      "text/plain": [
       "[1, 1, 1, 1, 1, 1, 1, 1, 1, 1, 1, 1]"
      ]
     },
     "execution_count": 4,
     "metadata": {},
     "output_type": "execute_result"
    }
   ],
   "source": [
    "a_array"
   ]
  },
  {
   "cell_type": "code",
   "execution_count": 5,
   "id": "f08acd36-e37d-4c0d-9514-2427a0f1698a",
   "metadata": {},
   "outputs": [
    {
     "ename": "Error",
     "evalue": "attempt to use a non-constant value in a constant",
     "output_type": "error",
     "traceback": [
      "let a_array : [i32;ind]= [1;ind];",
      "                   ^^^ non-constant value",
      "attempt to use a non-constant value in a constant",
      "help: consider using `const` instead of `let`\n\nconst ind"
     ]
    },
    {
     "ename": "Error",
     "evalue": "attempt to use a non-constant value in a constant",
     "output_type": "error",
     "traceback": [
      "let a_array : [i32;ind]= [1;ind];",
      "                            ^^^ non-constant value",
      "attempt to use a non-constant value in a constant",
      "help: consider using `const` instead of `let`\n\nconst ind"
     ]
    },
    {
     "ename": "Error",
     "evalue": "consider using `const` instead of `let`",
     "output_type": "error",
     "traceback": [
      "let ind = 7;",
      "^^^^^^^ ",
      "consider using `const` instead of `let`"
     ]
    }
   ],
   "source": [
    "let ind = 7;\n",
    "let a_array : [i32;ind]= [1;ind];"
   ]
  },
  {
   "cell_type": "code",
   "execution_count": 8,
   "id": "a560a12a-4590-4053-b6e1-4a45bc34fb87",
   "metadata": {},
   "outputs": [
    {
     "data": {
      "text/plain": [
       "[1, 1, 2, 3, 5, 8, 13, 21, 34, 55, 89, 144]"
      ]
     },
     "execution_count": 8,
     "metadata": {},
     "output_type": "execute_result"
    }
   ],
   "source": [
    "fn fib(x: i32) -> i32 {\n",
    "    if x <= 2 {1} else {fib(x - 2) + fib(x - 1)}\n",
    "}\n",
    "let values = (1..13).map(fib).collect::<Vec<i32>>();\n",
    "values"
   ]
  },
  {
   "cell_type": "code",
   "execution_count": 11,
   "id": "d7c4a270-d8df-449c-8eaf-a3771c76f3a0",
   "metadata": {},
   "outputs": [
    {
     "ename": "Error",
     "evalue": "The variable `a` has a type `fn(i32) -> i32 {fib}` that can't be persisted. You can try wrapping your code in braces so that the variable goes out of scope before the end of the code to be executed.",
     "output_type": "error",
     "traceback": [
      "The variable `a` has a type `fn(i32) -> i32 {fib}` that can't be persisted. You can try wrapping your code in braces so that the variable goes out of scope before the end of the code to be executed."
     ]
    }
   ],
   "source": [
    "let a = fib;"
   ]
  },
  {
   "cell_type": "code",
   "execution_count": 4,
   "id": "fe621bf5-eb89-47e3-9738-d0d9b8d363f0",
   "metadata": {},
   "outputs": [
    {
     "name": "stdout",
     "output_type": "stream",
     "text": [
      "Hello world\n"
     ]
    },
    {
     "name": "stderr",
     "output_type": "stream",
     "text": [
      "Hello error\n"
     ]
    },
    {
     "data": {
      "text/plain": [
       "\"Hello world\""
      ]
     },
     "execution_count": 4,
     "metadata": {},
     "output_type": "execute_result"
    }
   ],
   "source": [
    "\n",
    "println!(\"Hello world\");\n",
    "eprintln!(\"Hello error\");\n",
    "format!(\"Hello {}\", \"world\")"
   ]
  },
  {
   "cell_type": "code",
   "execution_count": 12,
   "id": "890d17e9-4ff9-409b-bb54-a0580828e29c",
   "metadata": {},
   "outputs": [],
   "source": [
    ":dep base64 = \"0.10.1\""
   ]
  },
  {
   "cell_type": "code",
   "execution_count": 14,
   "id": "74e1056c-9aac-4894-a42f-434affe1d067",
   "metadata": {},
   "outputs": [
    {
     "data": {
      "text/html": [
       "<table><tr><th>Variable</th><th>Type</th></tr><tr><td>values</td><td>Vec&lt;i32&gt;</td><tr></table>"
      ],
      "text/plain": [
       "values: Vec<i32>\n"
      ]
     },
     "execution_count": 14,
     "metadata": {},
     "output_type": "execute_result"
    }
   ],
   "source": [
    ":vars"
   ]
  },
  {
   "cell_type": "code",
   "execution_count": 13,
   "id": "292a6425-3fe1-4b4a-b37b-764121571059",
   "metadata": {},
   "outputs": [
    {
     "data": {
      "text/html": [
       "<table>\n",
       "<tr><td>:clear</td><td>Clear all state, keeping compilation cache</td></tr>\n",
       "<tr><td>:dep</td><td>Add dependency. e.g. :dep regex = \"1.0\"</td></tr>\n",
       "<tr><td>:efmt</td><td>Set the formatter for errors returned by ?</td></tr>\n",
       "<tr><td>:explain</td><td>Print explanation of last error</td></tr>\n",
       "<tr><td>:fmt</td><td>Set output formatter (default: {:?})</td></tr>\n",
       "<tr><td>:help</td><td>Print command help</td></tr>\n",
       "<tr><td>:internal_debug</td><td>Toggle various internal debugging code</td></tr>\n",
       "<tr><td>:last_compile_dir</td><td>Print the directory in which we last compiled</td></tr>\n",
       "<tr><td>:last_error_json</td><td>Print the last compilation error as JSON (for debugging)</td></tr>\n",
       "<tr><td>:linker</td><td>Set/print linker. Supported: system, lld</td></tr>\n",
       "<tr><td>:load_config</td><td>Reloads startup configuration files. Accepts optional flag `--quiet` to suppress logging.</td></tr>\n",
       "<tr><td>:offline</td><td>Set offline mode when invoking cargo</td></tr>\n",
       "<tr><td>:opt</td><td>Set optimization level (0/1/2)</td></tr>\n",
       "<tr><td>:preserve_vars_on_panic</td><td>Try to keep vars on panic (0/1)</td></tr>\n",
       "<tr><td>:quit</td><td>Quit evaluation and exit</td></tr>\n",
       "<tr><td>:sccache</td><td>Set whether to use sccache (0/1).</td></tr>\n",
       "<tr><td>:time_passes</td><td>Toggle printing of rustc pass times (requires nightly)</td></tr>\n",
       "<tr><td>:timing</td><td>Toggle printing of how long evaluations take</td></tr>\n",
       "<tr><td>:toolchain</td><td>Set which toolchain to use (e.g. nightly)</td></tr>\n",
       "<tr><td>:vars</td><td>List bound variables and their types</td></tr>\n",
       "<tr><td>:version</td><td>Print Evcxr version</td></tr>\n",
       "</table>\n"
      ],
      "text/plain": [
       ":clear            Clear all state, keeping compilation cache\n",
       ":dep              Add dependency. e.g. :dep regex = \"1.0\"\n",
       ":efmt             Set the formatter for errors returned by ?\n",
       ":explain          Print explanation of last error\n",
       ":fmt              Set output formatter (default: {:?})\n",
       ":help             Print command help\n",
       ":internal_debug   Toggle various internal debugging code\n",
       ":last_compile_dir Print the directory in which we last compiled\n",
       ":last_error_json  Print the last compilation error as JSON (for debugging)\n",
       ":linker           Set/print linker. Supported: system, lld\n",
       ":load_config      Reloads startup configuration files. Accepts optional flag `--quiet` to suppress logging.\n",
       ":offline          Set offline mode when invoking cargo\n",
       ":opt              Set optimization level (0/1/2)\n",
       ":preserve_vars_on_panic Try to keep vars on panic (0/1)\n",
       ":quit             Quit evaluation and exit\n",
       ":sccache          Set whether to use sccache (0/1).\n",
       ":time_passes      Toggle printing of rustc pass times (requires nightly)\n",
       ":timing           Toggle printing of how long evaluations take\n",
       ":toolchain        Set which toolchain to use (e.g. nightly)\n",
       ":vars             List bound variables and their types\n",
       ":version          Print Evcxr version\n"
      ]
     },
     "execution_count": 13,
     "metadata": {},
     "output_type": "execute_result"
    }
   ],
   "source": [
    ":help"
   ]
  },
  {
   "cell_type": "code",
   "execution_count": null,
   "id": "fc860d63-32da-4dfb-b2fb-c741874febcb",
   "metadata": {},
   "outputs": [],
   "source": []
  }
 ],
 "metadata": {
  "kernelspec": {
   "display_name": "Rust",
   "language": "rust",
   "name": "rust"
  },
  "language_info": {
   "codemirror_mode": "rust",
   "file_extension": ".rs",
   "mimetype": "text/rust",
   "name": "Rust",
   "pygment_lexer": "rust",
   "version": ""
  }
 },
 "nbformat": 4,
 "nbformat_minor": 5
}
